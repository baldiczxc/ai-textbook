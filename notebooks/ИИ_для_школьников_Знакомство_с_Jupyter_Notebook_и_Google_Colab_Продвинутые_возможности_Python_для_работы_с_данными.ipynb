{
  "nbformat": 4,
  "nbformat_minor": 0,
  "metadata": {
    "colab": {
      "provenance": [],
      "gpuType": "T4"
    },
    "kernelspec": {
      "name": "python3",
      "display_name": "Python 3"
    },
    "language_info": {
      "name": "python"
    },
    "accelerator": "GPU"
  },
  "cells": [
    {
      "cell_type": "markdown",
      "source": [
        "# Знакомство с Jupyter Notebook и Google Colab. Продвинутые возможности Python для работы с данными."
      ],
      "metadata": {
        "id": "_qkcasoqDsKN"
      }
    },
    {
      "cell_type": "markdown",
      "source": [
        "## Введение\n",
        "\n"
      ],
      "metadata": {
        "id": "9h5xzsQ4DwlG"
      }
    },
    {
      "cell_type": "markdown",
      "source": [
        "Добро пожаловать на наш курс по искусственному интеллекту! Сегодня мы начнем с изучения инструментов и библиотек, которые станут основой вашей работы с данными и создания ИИ-моделей. В этом занятии вы познакомитесь с Jupyter Notebook и Google Colab — мощными инструментами для интерактивного программирования и анализа данных. Мы также изучим несколько продвинутых возможностей Python, которые помогут вам эффективно работать с данными.\n",
        "\n",
        "### Что мы изучим на этом занятии:\n",
        "\n",
        "1. **Jupyter Notebook**: Интерактивная среда для выполнения и визуализации кода, которая широко используется в научных исследованиях и анализе данных.\n",
        "2. **Google Colab**: Облачный сервис от Google, предоставляющий те же возможности, что и Jupyter Notebook, с дополнительным преимуществом использования облачных ресурсов.\n",
        "3. **Collections**: Модуль, предоставляющий специализированные контейнеры для работы с данными.\n",
        "4. **Pickle**: Библиотека для сериализации и десериализации объектов Python, что позволяет сохранять и загружать данные.\n",
        "5. **JSON**: Формат обмена данными, используемый для хранения и передачи данных между серверами и клиентами.\n",
        "6. **Regex**: Регулярные выражения для поиска и обработки текста.\n",
        "7. **Requests**: Библиотека для выполнения HTTP-запросов, которая позволяет взаимодействовать с веб-сервисами и API.\n",
        "\n",
        "Эти темы обеспечат вам прочную базу для дальнейшего изучения искусственного интеллекта и работы с данными."
      ],
      "metadata": {
        "id": "im3bhPkHK1Vm"
      }
    },
    {
      "cell_type": "markdown",
      "source": [
        "## Jupyter Notebook\n",
        "\n"
      ],
      "metadata": {
        "id": "esJHVcSiD9b-"
      }
    },
    {
      "cell_type": "markdown",
      "source": [
        "![img](https://jupyter-notebook.readthedocs.io/en/latest/_images/notebook-running-code.png)\n",
        "\n",
        "Jupyter Notebook — это интерактивная среда для работы с кодом, данными и текстом в одном документе. Изначально разработанный для Python, Jupyter поддерживает более 40 языков программирования, включая R, Julia и Scala. Jupyter Notebook широко используется в научных исследованиях, образовании и анализе данных.\n",
        "\n",
        "### Основные возможности Jupyter Notebook\n",
        "\n",
        "1. **Интерактивное программирование**: Позволяет писать и выполнять код по частям в ячейках, что удобно для тестирования и отладки.\n",
        "2. **Поддержка Markdown**: Ячейки Markdown позволяют добавлять текстовые описания, формулы, изображения и другие элементы форматирования для создания хорошо структурированных документов.\n",
        "3. **Визуализация данных**: Легко интегрируется с библиотеками визуализации, такими как Matplotlib, Seaborn, Plotly и другими, что упрощает создание графиков и диаграмм.\n",
        "4. **Поддержка различных языков**: С помощью Jupyter Kernels можно использовать различные языки программирования, такие как Python, R, Julia и Scala.\n",
        "5. **Совместная работа**: Jupyter Notebook можно легко сохранять, делиться и воспроизводить, что делает его отличным инструментом для совместной работы и обмена знаниями."
      ],
      "metadata": {
        "id": "0_mz2NrGKum2"
      }
    },
    {
      "cell_type": "markdown",
      "source": [
        "## Google Colab\n",
        "\n"
      ],
      "metadata": {
        "id": "qFRc55WkEz6W"
      }
    },
    {
      "cell_type": "markdown",
      "source": [
        "![colab](https://techcrunch.com/wp-content/uploads/2023/08/screenshot-47.png)\n",
        "\n",
        "Google Colab (или Google Colaboratory) — это бесплатная облачная платформа от Google, аналогичная Jupyter Notebook. Она позволяет писать и исполнять код на Python прямо в веб-браузере, предоставляя вычислительные ресурсы (включая GPU и TPU) без необходимости установки программного обеспечения на локальный компьютер. Вот основные шаги и возможности использования Google Colab:\n",
        "\n",
        "### Основные функции Google Colab\n",
        "\n",
        "1. **Написание и выполнение кода**: В Google Colab можно писать и исполнять Python код в ячейках. Это позволяет экспериментировать с кодом и немедленно видеть результаты.\n",
        "2. **Поддержка Markdown**: Наряду с ячейками кода, Google Colab поддерживает ячейки Markdown, что позволяет добавлять текстовые описания, заголовки, списки, изображения и т.д.\n",
        "3. **Подключение к Google Drive**: Colab позволяет подключаться к вашему Google Drive для загрузки и сохранения файлов.\n",
        "4. **Использование GPU и TPU**: Для выполнения ресурсоемких вычислений, таких как обучение моделей машинного обучения, можно использовать GPU и TPU.\n",
        "5. **Совместная работа**: Google Colab поддерживает совместное редактирование в реальном времени, что позволяет нескольким пользователям работать над одним ноутбуком одновременно."
      ],
      "metadata": {
        "id": "h0qBnjK1KpAV"
      }
    },
    {
      "cell_type": "markdown",
      "source": [
        "### Упражнение 1. Создание нового блокнота в Google Colab\n",
        "\n",
        "1. Откройте Google Colab в вашем веб-браузере и создайте новый блокнот. В новой ячейке кода введите следующий Python код:\n",
        "\n",
        "    ```python\n",
        "    print(\"Привет, мир!\")\n",
        "    ```\n",
        "\n",
        "    Нажмите на кнопку \"Выполнить ячейку\" (или просто нажмите Shift + Enter), чтобы увидеть результат.\n",
        "\n",
        "2. Создайте новую ячейку и выберите тип ячейки \"Markdown\". В этой ячейке введите следующий текст:\n",
        "\n",
        "    ```markdown\n",
        "    ## Мой первый блокнот в Google Colab\n",
        "    В этом блокноте я учусь писать и выполнять код на Python.\n",
        "    ```\n",
        "\n",
        "    Выполните ячейку, чтобы увидеть отформатированный текст."
      ],
      "metadata": {
        "id": "WliiKcOiMJxe"
      }
    },
    {
      "cell_type": "markdown",
      "source": [
        "## Модуль collections\n",
        "\n"
      ],
      "metadata": {
        "id": "9xDE4VxGFQ3P"
      }
    },
    {
      "cell_type": "markdown",
      "source": [
        "В Python модуль collections предоставляет специализированные контейнерные типы данных, которые расширяют возможности стандартных встроенных контейнеров, таких как списки, кортежи, словари и множества."
      ],
      "metadata": {
        "id": "1yd70VSyK6cu"
      }
    },
    {
      "cell_type": "markdown",
      "source": [
        "### Классы модуля collections\n",
        "\n",
        "namedtuple — это подкласс кортежа, который позволяет именовать элементы."
      ],
      "metadata": {
        "id": "aHChj4JZFRtm"
      }
    },
    {
      "cell_type": "code",
      "execution_count": null,
      "metadata": {
        "id": "uCnN-E45DrAs",
        "colab": {
          "base_uri": "https://localhost:8080/"
        },
        "outputId": "5af312d5-248d-4a8d-d007-093b4faf9256"
      },
      "outputs": [
        {
          "output_type": "stream",
          "name": "stdout",
          "text": [
            "10 20\n"
          ]
        }
      ],
      "source": [
        "from collections import namedtuple\n",
        "\n",
        "# Определяем namedtuple\n",
        "Point = namedtuple('Point', ['x', 'y'])\n",
        "\n",
        "# Создаем экземпляр\n",
        "p = Point(10, 20)\n",
        "\n",
        "print(p.x, p.y)  # 10 20\n"
      ]
    },
    {
      "cell_type": "markdown",
      "source": [
        "deque (double-ended queue) — это двусторонняя очередь, которая позволяет быстро добавлять и удалять элементы с обоих концов."
      ],
      "metadata": {
        "id": "IrkO5aT-FekW"
      }
    },
    {
      "cell_type": "code",
      "source": [
        "from collections import deque\n",
        "\n",
        "# Создаем deque\n",
        "d = deque([1, 2, 3])\n",
        "\n",
        "# Добавляем элементы\n",
        "d.append(4)  # добавляет в конец\n",
        "d.appendleft(0)  # добавляет в начало\n",
        "\n",
        "print(d)  # deque([0, 1, 2, 3, 4])\n",
        "\n",
        "# Удаляем элементы\n",
        "d.pop()  # удаляет последний элемент\n",
        "d.popleft()  # удаляет первый элемент\n",
        "\n",
        "print(d)  # deque([1, 2, 3])\n"
      ],
      "metadata": {
        "colab": {
          "base_uri": "https://localhost:8080/"
        },
        "id": "VolSHycgFZGn",
        "outputId": "b0a56f3e-503a-4de2-d136-641dfe445299"
      },
      "execution_count": null,
      "outputs": [
        {
          "output_type": "stream",
          "name": "stdout",
          "text": [
            "deque([0, 1, 2, 3, 4])\n",
            "deque([1, 2, 3])\n"
          ]
        }
      ]
    },
    {
      "cell_type": "markdown",
      "source": [
        "Counter — это подкласс словаря, который предназначен для подсчета хэширующих объектов."
      ],
      "metadata": {
        "id": "QeiB1OxAFmiu"
      }
    },
    {
      "cell_type": "code",
      "source": [
        "from collections import Counter\n",
        "\n",
        "# Создаем Counter из строки\n",
        "cnt = Counter('abracadabra')\n",
        "\n",
        "print(cnt)  # Counter({'a': 5, 'b': 2, 'r': 2, 'c': 1, 'd': 1})\n",
        "\n",
        "# Наиболее частые элементы\n",
        "print(cnt.most_common(2))  # [('a', 5), ('b', 2)]\n"
      ],
      "metadata": {
        "colab": {
          "base_uri": "https://localhost:8080/"
        },
        "id": "d9r7GFV3Fg1n",
        "outputId": "caf968f2-9399-4e5a-f73f-a6f9e6a7504d"
      },
      "execution_count": null,
      "outputs": [
        {
          "output_type": "stream",
          "name": "stdout",
          "text": [
            "Counter({'a': 5, 'b': 2, 'r': 2, 'c': 1, 'd': 1})\n",
            "[('a', 5), ('b', 2)]\n"
          ]
        }
      ]
    },
    {
      "cell_type": "markdown",
      "source": [
        "OrderedDict — это словарь, который сохраняет порядок добавления элементов."
      ],
      "metadata": {
        "id": "Y4HolWNNFsde"
      }
    },
    {
      "cell_type": "code",
      "source": [
        "from collections import OrderedDict\n",
        "\n",
        "# Создаем OrderedDict\n",
        "od = OrderedDict()\n",
        "od['one'] = 1\n",
        "od['two'] = 2\n",
        "od['three'] = 3\n",
        "\n",
        "print(od)  # OrderedDict([('one', 1), ('two', 2), ('three', 3)])\n",
        "\n",
        "# Доступ по ключу\n",
        "print(od['two'])  # 2\n"
      ],
      "metadata": {
        "colab": {
          "base_uri": "https://localhost:8080/"
        },
        "id": "QO2a5xL2Fp2m",
        "outputId": "fd039e2f-4622-407c-b600-f6fde23d4d1c"
      },
      "execution_count": null,
      "outputs": [
        {
          "output_type": "stream",
          "name": "stdout",
          "text": [
            "OrderedDict([('one', 1), ('two', 2), ('three', 3)])\n",
            "2\n"
          ]
        }
      ]
    },
    {
      "cell_type": "markdown",
      "source": [
        "defaultdict — это словарь, который предоставляет значение по умолчанию для несуществующих ключей."
      ],
      "metadata": {
        "id": "v2HcVwnTFv0W"
      }
    },
    {
      "cell_type": "code",
      "source": [
        "from collections import defaultdict\n",
        "\n",
        "# Создаем defaultdict с default_factory int\n",
        "dd = defaultdict(int)\n",
        "\n",
        "# Доступ к несуществующему ключу\n",
        "print(dd['missing'])  # 0\n",
        "\n",
        "# Добавление значений\n",
        "dd['one'] = 1\n",
        "dd['two'] = 2\n",
        "\n",
        "print(dd)  # defaultdict(<class 'int'>, {'missing': 0, 'one': 1, 'two': 2})\n"
      ],
      "metadata": {
        "colab": {
          "base_uri": "https://localhost:8080/"
        },
        "id": "D3UeNfwiFts3",
        "outputId": "f2cac3ac-f019-4607-e765-79cb1c0caaf4"
      },
      "execution_count": null,
      "outputs": [
        {
          "output_type": "stream",
          "name": "stdout",
          "text": [
            "0\n",
            "defaultdict(<class 'int'>, {'missing': 0, 'one': 1, 'two': 2})\n"
          ]
        }
      ]
    },
    {
      "cell_type": "markdown",
      "source": [
        "ChainMap — это класс, который группирует несколько словарей в один, позволяя искать ключи в последовательности словарей."
      ],
      "metadata": {
        "id": "eU6Mj7-aF2F2"
      }
    },
    {
      "cell_type": "code",
      "source": [
        "from collections import ChainMap\n",
        "\n",
        "# Создаем несколько словарей\n",
        "dict1 = {'one': 1, 'two': 2}\n",
        "dict2 = {'three': 3, 'four': 4}\n",
        "\n",
        "# Объединяем словари в ChainMap\n",
        "chain = ChainMap(dict1, dict2)\n",
        "\n",
        "print(chain)  # ChainMap({'one': 1, 'two': 2}, {'three': 3, 'four': 4})\n",
        "\n",
        "# Доступ по ключу\n",
        "print(chain['three'])  # 3\n"
      ],
      "metadata": {
        "id": "64P2KTVpFxRP"
      },
      "execution_count": null,
      "outputs": []
    },
    {
      "cell_type": "markdown",
      "source": [
        "### Упражнение 2. Анализ частоты слов в тексте"
      ],
      "metadata": {
        "id": "ITzcofUGOYz2"
      }
    },
    {
      "cell_type": "markdown",
      "source": [
        "Посчитайте 10 самых частых слов из отрывка \"Алисы в стране чудес\", используя класс Counter модуля Collections. Для этого дополните код на месте троиточий (...)"
      ],
      "metadata": {
        "id": "wpgnK9mgPJvW"
      }
    },
    {
      "cell_type": "code",
      "source": [
        "from collections import ...\n",
        "import string\n",
        "\n",
        "# Функция для обработки текста\n",
        "def process_text(text):\n",
        "    # Привести текст к нижнему регистру\n",
        "    text = text.lower()\n",
        "    # Удалить знаки препинания\n",
        "    translator = str.maketrans('', '', string.punctuation)\n",
        "    text = text.translate(translator)\n",
        "    # Разделить текст на слова\n",
        "    words = text.split()\n",
        "    return words\n",
        "\n",
        "# Функция для подсчета частоты слов\n",
        "def count_words(words):\n",
        "    ...\n",
        "\n",
        "\n",
        "text = ''' Алиса начала скучать, сидя на берегу без дела: сестра ее уже два раза читала книгу, но в ней не было ни картинок, ни разговоров.\n",
        "«А что толку в книге, — подумала Алиса, — если в ней нет картинок или разговоров?»\n",
        "И она подумала было (насколько могла, потому что жаркий день сильно клонил ее ко сну), не стоит ли встать и нарвать маргариток для венка, как вдруг мимо нее с быстротой ветра промчался Белый Кролик с розовыми глазами.\n",
        "Здесь не было ничего особенно замечательного, и Алиса не особенно удивилась, даже когда услышала, что Кролик говорит: «Ах, боже мой! Ах, боже мой! Я опоздаю!»\n",
        "Но когда Кролик вынул часы из жилетного кармана и взглянул на них, и тут же побежал дальше, Алиса вскочила на ноги, потому что ей вдруг пришло в голову, что она никогда в жизни не видела кролика с часами и жилетом.\n",
        "Сгорая от любопытства, она побежала за ним через поле и подоспела как раз вовремя, чтобы увидеть, как он юркнул в большую нору под изгородью.\n",
        "Еще мгновение — и Алиса тоже юркнула вслед за ним, не подумав о том, как она будет выбираться обратно.\n",
        "'''\n",
        "\n",
        "words = process_text(text)\n",
        "word_counts = count_words(words)\n",
        "\n",
        "# 10 самых частых слов\n",
        "most_common_words = word_counts.most_common(10)\n",
        "for word, count in most_common_words:\n",
        "    print(f'{word}: {count}')\n"
      ],
      "metadata": {
        "collapsed": true,
        "id": "ginxMrgROkvm",
        "colab": {
          "base_uri": "https://localhost:8080/"
        },
        "outputId": "ec0be934-4316-4922-be95-b216f425a168"
      },
      "execution_count": null,
      "outputs": [
        {
          "output_type": "stream",
          "name": "stdout",
          "text": [
            "и: 8\n",
            "в: 6\n",
            "не: 6\n",
            "алиса: 5\n",
            "что: 5\n",
            "она: 4\n",
            "как: 4\n",
            "на: 3\n",
            "было: 3\n",
            "—: 3\n"
          ]
        }
      ]
    },
    {
      "cell_type": "markdown",
      "source": [
        "## Сериализация объектов\n",
        "\n"
      ],
      "metadata": {
        "id": "ugICjAzLF6Tu"
      }
    },
    {
      "cell_type": "markdown",
      "source": [
        "Сериализация (или \"маршалинг\") — это процесс преобразования объекта в байтовый поток, который можно сохранить в файл или передать по сети. Десериализация — это обратный процесс, преобразующий байтовый поток обратно в объект.\n",
        "\n",
        "`pickle` — это стандартный модуль Python для сериализации и десериализации объектов.\n",
        "\n",
        "### Основные функции модуля `pickle`\n",
        "\n",
        "- `pickle.dump(obj, file)`: Сериализует объект `obj` и записывает его в файл `file`.\n",
        "- `pickle.load(file)`: Читает байтовый поток из файла `file` и десериализует его, возвращая объект.\n",
        "- `pickle.dumps(obj)`: Сериализует объект `obj` и возвращает байтовый поток.\n",
        "- `pickle.loads(bytes)`: Десериализует объект из байтового потока `bytes`."
      ],
      "metadata": {
        "id": "LK8WChJNKip-"
      }
    },
    {
      "cell_type": "markdown",
      "source": [
        "### Примеры использования\n",
        "\n",
        "### Пример 1: Сохранение объекта в файл и загрузка его из файла"
      ],
      "metadata": {
        "id": "3hENgS2dF9dO"
      }
    },
    {
      "cell_type": "code",
      "source": [
        "import pickle\n",
        "\n",
        "# Объект для сериализации\n",
        "data = {'name': 'Alice', 'age': 30, 'city': 'New York'}\n",
        "\n",
        "# Сериализация и запись в файл\n",
        "with open('data.pickle', 'wb') as file:\n",
        "    pickle.dump(data, file)\n",
        "\n",
        "# Десериализация и чтение из файла\n",
        "with open('data.pickle', 'rb') as file:\n",
        "    loaded_data = pickle.load(file)\n",
        "\n",
        "print(loaded_data)  # {'name': 'Alice', 'age': 30, 'city': 'New York'}\n"
      ],
      "metadata": {
        "colab": {
          "base_uri": "https://localhost:8080/"
        },
        "id": "6qa_ziN_F8P3",
        "outputId": "18b7639d-9b7b-4b19-e744-3de142b66a37"
      },
      "execution_count": null,
      "outputs": [
        {
          "output_type": "stream",
          "name": "stdout",
          "text": [
            "{'name': 'Alice', 'age': 30, 'city': 'New York'}\n"
          ]
        }
      ]
    },
    {
      "cell_type": "markdown",
      "source": [
        "### Пример 2: Сериализация объекта в строку и десериализация из строки"
      ],
      "metadata": {
        "id": "zSTdCXVYGJOu"
      }
    },
    {
      "cell_type": "code",
      "source": [
        "import pickle\n",
        "\n",
        "# Объект для сериализации\n",
        "data = [1, 2, 3, {'a': 1, 'b': 2}]\n",
        "\n",
        "# Сериализация в байтовый поток\n",
        "serialized_data = pickle.dumps(data)\n",
        "\n",
        "# Десериализация из байтового потока\n",
        "deserialized_data = pickle.loads(serialized_data)\n",
        "\n",
        "print(deserialized_data)  # [1, 2, 3, {'a': 1, 'b': 2}]\n"
      ],
      "metadata": {
        "colab": {
          "base_uri": "https://localhost:8080/"
        },
        "id": "r_fhJnjwGCru",
        "outputId": "1fcc8db1-c772-4da0-e0a9-c8cc30d31eac"
      },
      "execution_count": null,
      "outputs": [
        {
          "output_type": "stream",
          "name": "stdout",
          "text": [
            "[1, 2, 3, {'a': 1, 'b': 2}]\n"
          ]
        }
      ]
    },
    {
      "cell_type": "markdown",
      "source": [
        "### Пример 3: Сохранение и загрузка пользовательского класса"
      ],
      "metadata": {
        "id": "eagmRNUYGPBd"
      }
    },
    {
      "cell_type": "code",
      "source": [
        "import pickle\n",
        "\n",
        "class Person:\n",
        "    def __init__(self, name, age):\n",
        "        self.name = name\n",
        "        self.age = age\n",
        "\n",
        "    def __repr__(self):\n",
        "        return f'Person(name={self.name}, age={self.age})'\n",
        "\n",
        "# Создание объекта класса\n",
        "person = Person('Bob', 25)\n",
        "\n",
        "# Сериализация и запись в файл\n",
        "with open('person.pickle', 'wb') as file:\n",
        "    pickle.dump(person, file)\n",
        "\n",
        "# Десериализация и чтение из файла\n",
        "with open('person.pickle', 'rb') as file:\n",
        "    loaded_person = pickle.load(file)\n",
        "\n",
        "print(loaded_person)  # Person(name=Bob, age=25)\n"
      ],
      "metadata": {
        "colab": {
          "base_uri": "https://localhost:8080/"
        },
        "id": "tdY9ZybTGNCX",
        "outputId": "ddb290d5-9cd8-42c3-de50-2f51b4b01d18"
      },
      "execution_count": null,
      "outputs": [
        {
          "output_type": "stream",
          "name": "stdout",
          "text": [
            "Person(name=Bob, age=25)\n"
          ]
        }
      ]
    },
    {
      "cell_type": "markdown",
      "source": [
        "### Упражнение 3. Сохранение и загрузка списка студентов\n",
        "\n",
        "Создайте несколько объектов класса Student и добавьте их в список. Используйте pickle для сериализации этого списка и сохраните его в файл. Загрузите список студентов из файла и выведите информацию о каждом студенте.\n",
        "\n",
        "Для выполнения этого упражнения заполните пропуски, обозначенные троеточием (...)"
      ],
      "metadata": {
        "id": "IPFIcz-LP6dd"
      }
    },
    {
      "cell_type": "code",
      "source": [
        "import ...\n",
        "\n",
        "# Определение класса Student\n",
        "class Student:\n",
        "    def __init__(self, name, age, grades):\n",
        "        self.name = name\n",
        "        self.age = age\n",
        "        self.grades = grades\n",
        "\n",
        "    def __repr__(self):\n",
        "        return f'Student(name={self.name}, age={self.age}, grades={self.grades})'\n",
        "\n",
        "# Создание списка студентов\n",
        "students = [\n",
        "    Student('Alice', 20, [85, 90, 88]),\n",
        "    Student('Bob', 22, [75, 80, 82]),\n",
        "    Student('Charlie', 21, [95, 100, 98])\n",
        "]\n",
        "\n",
        "# Сериализация и запись списка студентов в файл\n",
        "with open('students.pickle', 'wb') as file:\n",
        "    ...\n",
        "\n",
        "# Десериализация и чтение списка студентов из файла\n",
        "with open('students.pickle', 'rb') as file:\n",
        "    loaded_students = ...\n",
        "\n",
        "# Вывод информации о каждом студенте\n",
        "for student in loaded_students:\n",
        "    print(student)\n"
      ],
      "metadata": {
        "id": "B0q4WfL0RMiX"
      },
      "execution_count": null,
      "outputs": []
    },
    {
      "cell_type": "markdown",
      "source": [
        "## JSON сериализация\n",
        "\n"
      ],
      "metadata": {
        "id": "CZuLyFlnGU9W"
      }
    },
    {
      "cell_type": "markdown",
      "source": [
        "Работа с JSON (JavaScript Object Notation) в Python выполняется с помощью модуля `json`, который предоставляет методы для кодирования и декодирования JSON данных."
      ],
      "metadata": {
        "id": "abQzRmOhKfDW"
      }
    },
    {
      "cell_type": "markdown",
      "source": [
        "### Преобразование Python объектов в JSON (Сериализация)\n",
        "\n",
        "### Пример 1: Преобразование словаря в строку JSON"
      ],
      "metadata": {
        "id": "0KLgR2maGXO-"
      }
    },
    {
      "cell_type": "code",
      "source": [
        "import json\n",
        "\n",
        "# Создаем Python словарь\n",
        "data = {\n",
        "    'name': 'Alice',\n",
        "    'age': 30,\n",
        "    'city': 'New York'\n",
        "}\n",
        "\n",
        "# Преобразуем словарь в строку JSON\n",
        "json_string = json.dumps(data)\n",
        "print(json_string)  # {\"name\": \"Alice\", \"age\": 30, \"city\": \"New York\"}\n"
      ],
      "metadata": {
        "colab": {
          "base_uri": "https://localhost:8080/"
        },
        "id": "ybp2V0rJGSyW",
        "outputId": "0bb692af-d653-45c3-89b0-366aae1fa679"
      },
      "execution_count": null,
      "outputs": [
        {
          "output_type": "stream",
          "name": "stdout",
          "text": [
            "{\"name\": \"Alice\", \"age\": 30, \"city\": \"New York\"}\n"
          ]
        }
      ]
    },
    {
      "cell_type": "markdown",
      "source": [
        "### Пример 2: Запись JSON в файл"
      ],
      "metadata": {
        "id": "qQnF1N_AGa0l"
      }
    },
    {
      "cell_type": "code",
      "source": [
        "import json\n",
        "\n",
        "data = {\n",
        "    'name': 'Alice',\n",
        "    'age': 30,\n",
        "    'city': 'New York'\n",
        "}\n",
        "\n",
        "# Открываем файл для записи\n",
        "with open('data.json', 'w') as file:\n",
        "    json.dump(data, file)  # Записываем JSON данные в файл\n"
      ],
      "metadata": {
        "id": "QyplQA2UGZTm"
      },
      "execution_count": null,
      "outputs": []
    },
    {
      "cell_type": "markdown",
      "source": [
        "### Преобразование JSON в Python объекты (Десериализация)\n",
        "\n",
        "### Пример 3: Преобразование строки JSON в словарь"
      ],
      "metadata": {
        "id": "k8vXXgDKGell"
      }
    },
    {
      "cell_type": "code",
      "source": [
        "import json\n",
        "\n",
        "# Строка JSON\n",
        "json_string = '{\"name\": \"Alice\", \"age\": 30, \"city\": \"New York\"}'\n",
        "\n",
        "# Преобразуем строку JSON в Python словарь\n",
        "data = json.loads(json_string)\n",
        "print(data)  # {'name': 'Alice', 'age': 30, 'city': 'New York'}\n"
      ],
      "metadata": {
        "colab": {
          "base_uri": "https://localhost:8080/"
        },
        "id": "BoVfE-0zGc_m",
        "outputId": "01e161cf-1f78-42c2-a13e-fd86e1e6f9d6"
      },
      "execution_count": null,
      "outputs": [
        {
          "output_type": "stream",
          "name": "stdout",
          "text": [
            "{'name': 'Alice', 'age': 30, 'city': 'New York'}\n"
          ]
        }
      ]
    },
    {
      "cell_type": "markdown",
      "source": [
        "### Пример 4: Чтение JSON из файла"
      ],
      "metadata": {
        "id": "PiCZapykGh-V"
      }
    },
    {
      "cell_type": "code",
      "source": [
        "import json\n",
        "\n",
        "# Открываем файл для чтения\n",
        "with open('data.json', 'r') as file:\n",
        "    data = json.load(file)  # Читаем JSON данные из файла\n",
        "    print(data)  # {'name': 'Alice', 'age': 30, 'city': 'New York'}\n"
      ],
      "metadata": {
        "colab": {
          "base_uri": "https://localhost:8080/"
        },
        "id": "AUEAYjtSGgfe",
        "outputId": "c5039b82-8490-45da-84d2-fe772a610393"
      },
      "execution_count": null,
      "outputs": [
        {
          "output_type": "stream",
          "name": "stdout",
          "text": [
            "{'name': 'Alice', 'age': 30, 'city': 'New York'}\n"
          ]
        }
      ]
    },
    {
      "cell_type": "markdown",
      "source": [
        "### Работа с вложенными структурами данных\n",
        "\n",
        "### Пример 5: Вложенные структуры данных"
      ],
      "metadata": {
        "id": "EffN_-PxGlg-"
      }
    },
    {
      "cell_type": "code",
      "source": [
        "import json\n",
        "\n",
        "# Создаем вложенные данные\n",
        "data = {\n",
        "    'name': 'Alice',\n",
        "    'age': 30,\n",
        "    'address': {\n",
        "        'street': '123 Main St',\n",
        "        'city': 'New York'\n",
        "    },\n",
        "    'phone_numbers': ['123-456-7890', '987-654-3210']\n",
        "}\n",
        "\n",
        "# Преобразуем вложенные данные в строку JSON\n",
        "json_string = json.dumps(data, indent=4)\n",
        "print(json_string)\n"
      ],
      "metadata": {
        "colab": {
          "base_uri": "https://localhost:8080/"
        },
        "id": "kTUIPbiFGjRO",
        "outputId": "7b29f679-d712-4e94-a9aa-202bde07aa2f"
      },
      "execution_count": null,
      "outputs": [
        {
          "output_type": "stream",
          "name": "stdout",
          "text": [
            "{\n",
            "    \"name\": \"Alice\",\n",
            "    \"age\": 30,\n",
            "    \"address\": {\n",
            "        \"street\": \"123 Main St\",\n",
            "        \"city\": \"New York\"\n",
            "    },\n",
            "    \"phone_numbers\": [\n",
            "        \"123-456-7890\",\n",
            "        \"987-654-3210\"\n",
            "    ]\n",
            "}\n"
          ]
        }
      ]
    },
    {
      "cell_type": "markdown",
      "source": [
        "### Пример с нестандартными типами данных\n",
        "\n",
        "JSON поддерживает только несколько типов данных: строки, числа, массивы (списки), объекты (словари), логические значения и `null`. Для сериализации других типов данных, таких как дата и время, нужно использовать дополнительные преобразования."
      ],
      "metadata": {
        "id": "L6xK4KT8GtDW"
      }
    },
    {
      "cell_type": "markdown",
      "source": [
        "### Пример 6: Сериализация объекта с нестандартными типами данных"
      ],
      "metadata": {
        "id": "hLP7MqYSGwKG"
      }
    },
    {
      "cell_type": "code",
      "source": [
        "import json\n",
        "from datetime import datetime\n",
        "\n",
        "# Создаем данные с объектом datetime\n",
        "data = {\n",
        "    'name': 'Alice',\n",
        "    'timestamp': datetime.now()\n",
        "}\n",
        "\n",
        "# Определяем функцию для преобразования нестандартных типов\n",
        "def default_converter(o):\n",
        "    if isinstance(o, datetime):\n",
        "        return o.isoformat()\n",
        "    raise TypeError(f'Object of type {o.__class__.__name__} is not JSON serializable')\n",
        "\n",
        "# Преобразуем данные в строку JSON с помощью функции преобразования\n",
        "json_string = json.dumps(data, default=default_converter)\n",
        "print(json_string)\n"
      ],
      "metadata": {
        "colab": {
          "base_uri": "https://localhost:8080/"
        },
        "id": "RGonNjqYGnDe",
        "outputId": "f5c35f0d-9071-4f59-b9a1-401b42f0a4f9"
      },
      "execution_count": null,
      "outputs": [
        {
          "output_type": "stream",
          "name": "stdout",
          "text": [
            "{\"name\": \"Alice\", \"timestamp\": \"2024-06-23T07:59:03.674770\"}\n"
          ]
        }
      ]
    },
    {
      "cell_type": "markdown",
      "source": [
        "### Пример десериализации с обработкой ошибок\n",
        "\n",
        "### Пример 7: Десериализация с обработкой ошибок"
      ],
      "metadata": {
        "id": "AoJi3n_iGzbm"
      }
    },
    {
      "cell_type": "code",
      "source": [
        "import json\n",
        "\n",
        "# Некорректная строка JSON\n",
        "json_string = '{\"name\": \"Alice\", \"age\": 30, \"city\": \"New York\"'\n",
        "\n",
        "# Пытаемся преобразовать строку JSON в словарь и обрабатываем возможные ошибки\n",
        "try:\n",
        "    data = json.loads(json_string)\n",
        "except json.JSONDecodeError as e:\n",
        "    print(f'Ошибка декодирования JSON: {e}')\n"
      ],
      "metadata": {
        "colab": {
          "base_uri": "https://localhost:8080/"
        },
        "id": "4dLEE9pLGxXe",
        "outputId": "7477a673-e473-459c-f609-e2bbd895889f"
      },
      "execution_count": null,
      "outputs": [
        {
          "output_type": "stream",
          "name": "stdout",
          "text": [
            "Ошибка декодирования JSON: Expecting ',' delimiter: line 1 column 48 (char 47)\n"
          ]
        }
      ]
    },
    {
      "cell_type": "markdown",
      "source": [
        "### Упражнение 4: Управление списком задач с использованием JSON сериализации\n",
        "\n",
        "Заполните пропуски, обозначенные троеточием (...)"
      ],
      "metadata": {
        "id": "x28aCzOaSQ6G"
      }
    },
    {
      "cell_type": "code",
      "source": [
        "import json\n",
        "\n",
        "# Определение класса Task\n",
        "class Task:\n",
        "    def __init__(self, title, description, completed=False):\n",
        "        self.title = title\n",
        "        self.description = description\n",
        "        self.completed = completed\n",
        "\n",
        "    def __repr__(self):\n",
        "        return f'Task(title={self.title}, description={self.description}, completed={self.completed})'\n",
        "\n",
        "# Функция для сериализации объекта Task в JSON-совместимый формат\n",
        "def task_to_dict(task):\n",
        "    return {\n",
        "        'title': task.title,\n",
        "        'description': task.description,\n",
        "        'completed': task.completed\n",
        "    }\n",
        "\n",
        "# Функция для десериализации объекта Task из JSON-совместимого формата\n",
        "def dict_to_task(d):\n",
        "    return Task(d['title'], d['description'], d['completed'])\n",
        "\n",
        "# Создание списка задач\n",
        "tasks = [\n",
        "    Task('Buy groceries', 'Milk, Bread, Eggs', False),\n",
        "    Task('Read book', 'Read a book', True),\n",
        "    Task('Exercise', 'Go for a 30-minute run', False)\n",
        "]\n",
        "\n",
        "# Сериализация и запись списка задач в файл\n",
        "with open('tasks.json', 'w') as file:\n",
        "    ...\n",
        "\n",
        "# Десериализация и чтение списка задач из файла\n",
        "with open('tasks.json', 'r') as file:\n",
        "    loaded_tasks = ...\n",
        "\n",
        "# Вывод информации о каждой задаче\n",
        "for task in loaded_tasks:\n",
        "    print(task)\n"
      ],
      "metadata": {
        "id": "Y9e_ic6VSp_2"
      },
      "execution_count": null,
      "outputs": []
    },
    {
      "cell_type": "markdown",
      "source": [
        "## Регулярные выражения (Regular Expressions)\n",
        "\n"
      ],
      "metadata": {
        "id": "5m_rJUXIG3GO"
      }
    },
    {
      "cell_type": "markdown",
      "source": [
        "Регулярные выражения (regular expressions, regex) — это мощный инструмент для работы с текстом, который позволяет искать, совпадать и изменять строки на основе шаблонов. В Python для работы с регулярными выражениями используется модуль `re`."
      ],
      "metadata": {
        "id": "DjRDBnGxKXkg"
      }
    },
    {
      "cell_type": "markdown",
      "source": [
        "### Основные функции модуля `re`\n",
        "\n",
        "### 1. `re.match()`\n",
        "\n",
        "Эта функция проверяет, соответствует ли начало строки заданному шаблону."
      ],
      "metadata": {
        "id": "HBYlrXL3G5WG"
      }
    },
    {
      "cell_type": "code",
      "source": [
        "import re\n",
        "\n",
        "pattern = r'\\d+'  # Шаблон для поиска одной или более цифр\n",
        "string = '123abc'\n",
        "\n",
        "m = re.match(pattern, string)\n",
        "if m:\n",
        "    print('Совпадение найдено:', m.group())  # 123\n",
        "else:\n",
        "    print('Совпадение не найдено')\n"
      ],
      "metadata": {
        "colab": {
          "base_uri": "https://localhost:8080/"
        },
        "id": "2iqA9hFXG0tv",
        "outputId": "04c08f75-8e78-409b-8d33-62969efea55a"
      },
      "execution_count": null,
      "outputs": [
        {
          "output_type": "stream",
          "name": "stdout",
          "text": [
            "Совпадение найдено: 123\n"
          ]
        }
      ]
    },
    {
      "cell_type": "markdown",
      "source": [
        "### 2. `re.search()`\n",
        "\n",
        "Эта функция ищет первое совпадение с шаблоном в строке."
      ],
      "metadata": {
        "id": "lNqeOzmAH96e"
      }
    },
    {
      "cell_type": "code",
      "source": [
        "import re\n",
        "\n",
        "pattern = r'\\d+'  # Шаблон для поиска одной или более цифр\n",
        "string = 'abc123def'\n",
        "\n",
        "search = re.search(pattern, string)\n",
        "if search:\n",
        "    print('Совпадение найдено:', search.group())  # 123\n",
        "else:\n",
        "    print('Совпадение не найдено')\n"
      ],
      "metadata": {
        "colab": {
          "base_uri": "https://localhost:8080/"
        },
        "id": "7W89iHIGG69f",
        "outputId": "ac77715a-7329-4fb0-fbae-e31a1d81ac8a"
      },
      "execution_count": null,
      "outputs": [
        {
          "output_type": "stream",
          "name": "stdout",
          "text": [
            "Совпадение найдено: 123\n"
          ]
        }
      ]
    },
    {
      "cell_type": "markdown",
      "source": [
        "### 3. `re.findall()`\n",
        "\n",
        "Эта функция возвращает список всех совпадений с шаблоном в строке."
      ],
      "metadata": {
        "id": "OoPTojnLICHG"
      }
    },
    {
      "cell_type": "code",
      "source": [
        "import re\n",
        "\n",
        "pattern = r'\\d+'  # Шаблон для поиска одной или более цифр\n",
        "string = 'abc123def456ghi789'\n",
        "\n",
        "findall = re.findall(pattern, string)\n",
        "print('Все совпадения:', findall)  # ['123', '456', '789']\n"
      ],
      "metadata": {
        "colab": {
          "base_uri": "https://localhost:8080/"
        },
        "id": "4NWBBZdSH_v_",
        "outputId": "64176a31-6e56-47a3-e6c1-8a5daef1292f"
      },
      "execution_count": null,
      "outputs": [
        {
          "output_type": "stream",
          "name": "stdout",
          "text": [
            "Все совпадения: ['123', '456', '789']\n"
          ]
        }
      ]
    },
    {
      "cell_type": "markdown",
      "source": [
        "### 4. `re.finditer()`\n",
        "\n",
        "Эта функция возвращает итератор с объектами совпадений."
      ],
      "metadata": {
        "id": "3L6ZEs8bIO2t"
      }
    },
    {
      "cell_type": "code",
      "source": [
        "import re\n",
        "\n",
        "pattern = r'\\d+'  # Шаблон для поиска одной или более цифр\n",
        "string = 'abc123def456ghi789'\n",
        "\n",
        "finditer = re.finditer(pattern, string)\n",
        "for match in finditer:\n",
        "    print('Совпадение:', match.group())  # 123, 456, 789\n"
      ],
      "metadata": {
        "colab": {
          "base_uri": "https://localhost:8080/"
        },
        "id": "FkZDiWq2IMcO",
        "outputId": "2829e6b1-1de4-4049-e029-2668f7a4ac4c"
      },
      "execution_count": null,
      "outputs": [
        {
          "output_type": "stream",
          "name": "stdout",
          "text": [
            "Совпадение: 123\n",
            "Совпадение: 456\n",
            "Совпадение: 789\n"
          ]
        }
      ]
    },
    {
      "cell_type": "markdown",
      "source": [
        "### 5. `re.sub()`\n",
        "\n",
        "Эта функция заменяет все совпадения с шаблоном на заданную строку."
      ],
      "metadata": {
        "id": "0vTzfuY-IUg2"
      }
    },
    {
      "cell_type": "code",
      "source": [
        "import re\n",
        "\n",
        "pattern = r'\\d+'  # Шаблон для поиска одной или более цифр\n",
        "string = 'abc123def456ghi789'\n",
        "\n",
        "result = re.sub(pattern, '#', string)\n",
        "print('Замена:', result)  # abc#def#ghi#\n"
      ],
      "metadata": {
        "colab": {
          "base_uri": "https://localhost:8080/"
        },
        "id": "lXDqF8L-IRhv",
        "outputId": "65948d69-1ccf-482e-e277-13d7a41b97f1"
      },
      "execution_count": null,
      "outputs": [
        {
          "output_type": "stream",
          "name": "stdout",
          "text": [
            "Замена: abc#def#ghi#\n"
          ]
        }
      ]
    },
    {
      "cell_type": "markdown",
      "source": [
        "### Примеры использования регулярных выражений\n",
        "\n"
      ],
      "metadata": {
        "id": "9xtM7ygxIZP-"
      }
    },
    {
      "cell_type": "markdown",
      "source": [
        "### Пример 1: Проверка формата email"
      ],
      "metadata": {
        "id": "rWFbuxcPKRKW"
      }
    },
    {
      "cell_type": "code",
      "source": [
        "import re\n",
        "\n",
        "pattern = r'^[a-zA-Z0-9._%+-]+@[a-zA-Z0-9.-]+\\.[a-zA-Z]{2,}$'\n",
        "email = 'example@example.com'\n",
        "\n",
        "if re.match(pattern, email):\n",
        "    print('Корректный email')\n",
        "else:\n",
        "    print('Некорректный email')\n"
      ],
      "metadata": {
        "colab": {
          "base_uri": "https://localhost:8080/"
        },
        "id": "g2dpHoYVIWiX",
        "outputId": "f32caeaa-c2ca-4612-c1db-d700de0490c6"
      },
      "execution_count": null,
      "outputs": [
        {
          "output_type": "stream",
          "name": "stdout",
          "text": [
            "Корректный email\n"
          ]
        }
      ]
    },
    {
      "cell_type": "markdown",
      "source": [
        "### Пример 2: Извлечение доменных имен из URL"
      ],
      "metadata": {
        "id": "qSqLWdBvIh0G"
      }
    },
    {
      "cell_type": "code",
      "source": [
        "import re\n",
        "\n",
        "pattern = r'https?://(www\\.)?([^/]+)'\n",
        "urls = [\n",
        "    'https://www.example.com/path/to/page',\n",
        "    'http://example.org',\n",
        "    'https://subdomain.example.net'\n",
        "]\n",
        "\n",
        "for url in urls:\n",
        "    match = re.search(pattern, url)\n",
        "    if match:\n",
        "        print('Доменное имя:', match.group(2))  # example.com, example.org, subdomain.example.net\n"
      ],
      "metadata": {
        "colab": {
          "base_uri": "https://localhost:8080/"
        },
        "id": "jpHdcoqQIcH2",
        "outputId": "51e0646d-e514-43da-c080-08cd630026b4"
      },
      "execution_count": null,
      "outputs": [
        {
          "output_type": "stream",
          "name": "stdout",
          "text": [
            "Доменное имя: example.com\n",
            "Доменное имя: example.org\n",
            "Доменное имя: subdomain.example.net\n"
          ]
        }
      ]
    },
    {
      "cell_type": "markdown",
      "source": [
        "### Пример 3: Замена дат в формате `DD/MM/YYYY` на `YYYY-MM-DD`"
      ],
      "metadata": {
        "id": "jxzK7uYhIs1m"
      }
    },
    {
      "cell_type": "code",
      "source": [
        "import re\n",
        "\n",
        "pattern = r'(\\d{2})/(\\d{2})/(\\d{4})'\n",
        "string = 'Дата рождения: 23/04/1998'\n",
        "\n",
        "result = re.sub(pattern, r'\\3-\\2-\\1', string)\n",
        "print('Результат замены:', result)  # Дата рождения: 1998-04-23\n"
      ],
      "metadata": {
        "colab": {
          "base_uri": "https://localhost:8080/"
        },
        "id": "rAdxqjl6Ijpu",
        "outputId": "7c1a4f0c-22b7-43a9-fc08-3c9f5d78e06f"
      },
      "execution_count": null,
      "outputs": [
        {
          "output_type": "stream",
          "name": "stdout",
          "text": [
            "Результат замены: Дата рождения: 1998-04-23\n"
          ]
        }
      ]
    },
    {
      "cell_type": "markdown",
      "source": [
        "### Пример 4: Разделение строки на слова"
      ],
      "metadata": {
        "id": "35-BBUglI03u"
      }
    },
    {
      "cell_type": "code",
      "source": [
        "import re\n",
        "\n",
        "string = 'Hello, world! This is a test.'\n",
        "pattern = r'\\W+'  # Шаблон для поиска одного или более неалфавитных символов\n",
        "\n",
        "words = re.split(pattern, string)\n",
        "print('Слова:', words)  # ['Hello', 'world', 'This', 'is', 'a', 'test', '']\n"
      ],
      "metadata": {
        "colab": {
          "base_uri": "https://localhost:8080/"
        },
        "id": "b_2LsQ_KIyDn",
        "outputId": "a5e6fd47-449d-40c6-842f-36e6b6dab1c8"
      },
      "execution_count": null,
      "outputs": [
        {
          "output_type": "stream",
          "name": "stdout",
          "text": [
            "Слова: ['Hello', 'world', 'This', 'is', 'a', 'test', '']\n"
          ]
        }
      ]
    },
    {
      "cell_type": "markdown",
      "source": [
        "### Некоторые распространенные шаблоны регулярных выражений\n",
        "\n"
      ],
      "metadata": {
        "id": "_3ihjhBvI5P-"
      }
    },
    {
      "cell_type": "markdown",
      "source": [
        "- `\\d` — одна цифра\n",
        "- `\\D` — не цифра\n",
        "- `\\w` — один алфавитно-цифровой символ\n",
        "- `\\W` — не алфавитно-цифровой символ\n",
        "- `\\s` — пробельный символ\n",
        "- `\\S` — не пробельный символ\n",
        "- `^` — начало строки\n",
        "- `$` — конец строки\n",
        "- `.` — любой символ, кроме новой строки\n",
        "- `[...]` — любой из символов в скобках\n",
        "- `[^...]` — любой символ, кроме тех, что в скобках\n",
        "- `+` — одно или более повторений\n",
        "- `?` — ноль или одно повторение\n",
        "- `{n}` — ровно `n` повторений\n",
        "- `{n,}` — `n` или более повторений\n",
        "- `{n,m}` — от `n` до `m` повторений"
      ],
      "metadata": {
        "id": "oyeEY2mXU3hn"
      }
    },
    {
      "cell_type": "markdown",
      "source": [
        "### Упражение 5. Валидация и извлечение номеров телефонов\n",
        "\n",
        "Заполните пропуска, обозначенные троеточием (...)"
      ],
      "metadata": {
        "id": "h9LOzq9OTa4v"
      }
    },
    {
      "cell_type": "code",
      "source": [
        "import ...\n",
        "\n",
        "# Функция для валидации номера телефона\n",
        "def validate_phone_number(phone_number):\n",
        "    pattern = r'^\\(\\d{3}\\) \\d{3}-\\d{4}$'\n",
        "    return ...\n",
        "\n",
        "# Функция для извлечения номеров телефонов из текста\n",
        "def extract_phone_numbers(text):\n",
        "    pattern = r'\\(\\d{3}\\) \\d{3}-\\d{4}'\n",
        "    return ...\n",
        "\n",
        "# Примеры для тестирования\n",
        "phone_numbers = [\n",
        "    '(123) 456-7890',\n",
        "    '123-456-7890',\n",
        "    '(123) 456-7890 ext. 1234',\n",
        "    '(098) 765-4321'\n",
        "]\n",
        "\n",
        "text = '''\n",
        "Here are some phone numbers:\n",
        "- (123) 456-7890\n",
        "- 123-456-7890\n",
        "- (123) 456-7890 ext. 1234\n",
        "- (098) 765-4321\n",
        "Call us!\n",
        "'''\n",
        "\n",
        "# Тестирование функции валидации\n",
        "for number in phone_numbers:\n",
        "    print(f'Is \"{number}\" a valid phone number? {validate_phone_number(number)}')\n",
        "\n",
        "# Тестирование функции извлечения\n",
        "extracted_numbers = extract_phone_numbers(text)\n",
        "print('Extracted phone numbers:', extracted_numbers)\n"
      ],
      "metadata": {
        "id": "c933zBy3TkVv"
      },
      "execution_count": null,
      "outputs": []
    },
    {
      "cell_type": "markdown",
      "source": [
        "## Работа с HTTP\n",
        "\n"
      ],
      "metadata": {
        "id": "jrqXczqiI98u"
      }
    },
    {
      "cell_type": "markdown",
      "source": [
        "HTTP (Hypertext Transfer Protocol) — это протокол обмена данными в Интернете, который позволяет передавать информацию, такую как веб-страницы, между клиентскими устройствами (например, компьютерами или смартфонами) и серверами. Он основан на модели клиент-сервер, где клиент отправляет запрос (например, загрузку веб-страницы), а сервер отвечает соответствующими данными или сообщением об ошибке. HTTP является основным протоколом для просмотра веб-страниц в браузере и поддерживает различные методы запроса, такие как GET, POST, PUT и DELETE, что делает его универсальным инструментом для управления и взаимодействия с веб-ресурсами.\n",
        "\n",
        "Библиотека `requests` является популярным и удобным средством для работы с HTTP-запросами. Она проста в использовании и предоставляет высокоуровневый интерфейс."
      ],
      "metadata": {
        "id": "2xNn-RKCKKQ1"
      }
    },
    {
      "cell_type": "markdown",
      "source": [
        "### Установка"
      ],
      "metadata": {
        "id": "7V8HDAMOJM1-"
      }
    },
    {
      "cell_type": "code",
      "source": [
        "!pip install requests"
      ],
      "metadata": {
        "colab": {
          "base_uri": "https://localhost:8080/"
        },
        "id": "wOBvur6fI26X",
        "outputId": "8544c31a-bb3a-41f0-95e0-7645185d7b3a"
      },
      "execution_count": null,
      "outputs": [
        {
          "output_type": "stream",
          "name": "stdout",
          "text": [
            "Requirement already satisfied: requests in /usr/local/lib/python3.10/dist-packages (2.31.0)\n",
            "Requirement already satisfied: charset-normalizer<4,>=2 in /usr/local/lib/python3.10/dist-packages (from requests) (3.3.2)\n",
            "Requirement already satisfied: idna<4,>=2.5 in /usr/local/lib/python3.10/dist-packages (from requests) (3.7)\n",
            "Requirement already satisfied: urllib3<3,>=1.21.1 in /usr/local/lib/python3.10/dist-packages (from requests) (2.0.7)\n",
            "Requirement already satisfied: certifi>=2017.4.17 in /usr/local/lib/python3.10/dist-packages (from requests) (2024.6.2)\n"
          ]
        }
      ]
    },
    {
      "cell_type": "markdown",
      "source": [
        "### Примеры использования\n",
        "\n",
        "Отправка GET-запроса"
      ],
      "metadata": {
        "id": "SatszR0LJVCG"
      }
    },
    {
      "cell_type": "code",
      "source": [
        "import requests\n",
        "\n",
        "response = requests.get('https://jsonplaceholder.typicode.com/posts/1')\n",
        "print(response.status_code)  # 200\n",
        "print(response.json())  # {'userId': 1, 'id': 1, 'title': '...', 'body': '...'}\n"
      ],
      "metadata": {
        "colab": {
          "base_uri": "https://localhost:8080/"
        },
        "id": "xRbw-KqbJPuv",
        "outputId": "cfd74545-7a87-4d68-d779-f574ad7c44f8"
      },
      "execution_count": null,
      "outputs": [
        {
          "output_type": "stream",
          "name": "stdout",
          "text": [
            "200\n",
            "{'userId': 1, 'id': 1, 'title': 'sunt aut facere repellat provident occaecati excepturi optio reprehenderit', 'body': 'quia et suscipit\\nsuscipit recusandae consequuntur expedita et cum\\nreprehenderit molestiae ut ut quas totam\\nnostrum rerum est autem sunt rem eveniet architecto'}\n"
          ]
        }
      ]
    },
    {
      "cell_type": "markdown",
      "source": [
        "Отправка POST-запроса"
      ],
      "metadata": {
        "id": "dyJ_evhuJjSV"
      }
    },
    {
      "cell_type": "code",
      "source": [
        "import requests\n",
        "\n",
        "data = {\n",
        "    'title': 'foo',\n",
        "    'body': 'bar',\n",
        "    'userId': 1\n",
        "}\n",
        "response = requests.post('https://jsonplaceholder.typicode.com/posts', json=data)\n",
        "print(response.status_code)  # 201\n",
        "print(response.json())  # {'title': 'foo', 'body': 'bar', 'userId': 1, 'id': 101}\n"
      ],
      "metadata": {
        "colab": {
          "base_uri": "https://localhost:8080/"
        },
        "id": "_gOmS-0VJW1X",
        "outputId": "581d9726-152e-4d18-b5bd-0145c6bf4f20"
      },
      "execution_count": null,
      "outputs": [
        {
          "output_type": "stream",
          "name": "stdout",
          "text": [
            "201\n",
            "{'title': 'foo', 'body': 'bar', 'userId': 1, 'id': 101}\n"
          ]
        }
      ]
    },
    {
      "cell_type": "markdown",
      "source": [
        "Передача параметров в GET-запросе"
      ],
      "metadata": {
        "id": "6k5N2bAhJtwl"
      }
    },
    {
      "cell_type": "code",
      "source": [
        "import requests\n",
        "\n",
        "params = {'userId': 1}\n",
        "response = requests.get('https://jsonplaceholder.typicode.com/posts', params=params)\n",
        "print(response.status_code)  # 200\n",
        "print(response.json())  # [{'userId': 1, 'id': 1, 'title': '...', 'body': '...'}, ...]\n"
      ],
      "metadata": {
        "colab": {
          "base_uri": "https://localhost:8080/"
        },
        "id": "UBlR2m-HJpeG",
        "outputId": "9a97c9e0-33f5-4a05-d477-ed453e36bdcd"
      },
      "execution_count": null,
      "outputs": [
        {
          "output_type": "stream",
          "name": "stdout",
          "text": [
            "200\n",
            "[{'userId': 1, 'id': 1, 'title': 'sunt aut facere repellat provident occaecati excepturi optio reprehenderit', 'body': 'quia et suscipit\\nsuscipit recusandae consequuntur expedita et cum\\nreprehenderit molestiae ut ut quas totam\\nnostrum rerum est autem sunt rem eveniet architecto'}, {'userId': 1, 'id': 2, 'title': 'qui est esse', 'body': 'est rerum tempore vitae\\nsequi sint nihil reprehenderit dolor beatae ea dolores neque\\nfugiat blanditiis voluptate porro vel nihil molestiae ut reiciendis\\nqui aperiam non debitis possimus qui neque nisi nulla'}, {'userId': 1, 'id': 3, 'title': 'ea molestias quasi exercitationem repellat qui ipsa sit aut', 'body': 'et iusto sed quo iure\\nvoluptatem occaecati omnis eligendi aut ad\\nvoluptatem doloribus vel accusantium quis pariatur\\nmolestiae porro eius odio et labore et velit aut'}, {'userId': 1, 'id': 4, 'title': 'eum et est occaecati', 'body': 'ullam et saepe reiciendis voluptatem adipisci\\nsit amet autem assumenda provident rerum culpa\\nquis hic commodi nesciunt rem tenetur doloremque ipsam iure\\nquis sunt voluptatem rerum illo velit'}, {'userId': 1, 'id': 5, 'title': 'nesciunt quas odio', 'body': 'repudiandae veniam quaerat sunt sed\\nalias aut fugiat sit autem sed est\\nvoluptatem omnis possimus esse voluptatibus quis\\nest aut tenetur dolor neque'}, {'userId': 1, 'id': 6, 'title': 'dolorem eum magni eos aperiam quia', 'body': 'ut aspernatur corporis harum nihil quis provident sequi\\nmollitia nobis aliquid molestiae\\nperspiciatis et ea nemo ab reprehenderit accusantium quas\\nvoluptate dolores velit et doloremque molestiae'}, {'userId': 1, 'id': 7, 'title': 'magnam facilis autem', 'body': 'dolore placeat quibusdam ea quo vitae\\nmagni quis enim qui quis quo nemo aut saepe\\nquidem repellat excepturi ut quia\\nsunt ut sequi eos ea sed quas'}, {'userId': 1, 'id': 8, 'title': 'dolorem dolore est ipsam', 'body': 'dignissimos aperiam dolorem qui eum\\nfacilis quibusdam animi sint suscipit qui sint possimus cum\\nquaerat magni maiores excepturi\\nipsam ut commodi dolor voluptatum modi aut vitae'}, {'userId': 1, 'id': 9, 'title': 'nesciunt iure omnis dolorem tempora et accusantium', 'body': 'consectetur animi nesciunt iure dolore\\nenim quia ad\\nveniam autem ut quam aut nobis\\net est aut quod aut provident voluptas autem voluptas'}, {'userId': 1, 'id': 10, 'title': 'optio molestias id quia eum', 'body': 'quo et expedita modi cum officia vel magni\\ndoloribus qui repudiandae\\nvero nisi sit\\nquos veniam quod sed accusamus veritatis error'}]\n"
          ]
        }
      ]
    },
    {
      "cell_type": "markdown",
      "source": [
        "Обработка заголовков ответа"
      ],
      "metadata": {
        "id": "-CZh0FfFJ1u-"
      }
    },
    {
      "cell_type": "code",
      "source": [
        "import requests\n",
        "\n",
        "response = requests.get('https://jsonplaceholder.typicode.com/posts/1')\n",
        "print(response.headers['Content-Type'])  # application/json; charset=utf-8\n"
      ],
      "metadata": {
        "colab": {
          "base_uri": "https://localhost:8080/"
        },
        "id": "UaEOTIfXJ0Ee",
        "outputId": "c8a03168-cf17-4d21-a9d2-46b278ca6094"
      },
      "execution_count": null,
      "outputs": [
        {
          "output_type": "stream",
          "name": "stdout",
          "text": [
            "application/json; charset=utf-8\n"
          ]
        }
      ]
    },
    {
      "cell_type": "markdown",
      "source": [
        "Отправка заголовков запроса"
      ],
      "metadata": {
        "id": "ZsKYrQK_J58O"
      }
    },
    {
      "cell_type": "code",
      "source": [
        "import requests\n",
        "\n",
        "headers = {'User-Agent': 'my-app/0.0.1'}\n",
        "response = requests.get('https://jsonplaceholder.typicode.com/posts/1', headers=headers)\n",
        "print(response.status_code)  # 200\n"
      ],
      "metadata": {
        "colab": {
          "base_uri": "https://localhost:8080/"
        },
        "id": "de8XZmWHJ4Sv",
        "outputId": "1e587695-88bb-4d9d-8aa2-c563b6718547"
      },
      "execution_count": null,
      "outputs": [
        {
          "output_type": "stream",
          "name": "stdout",
          "text": [
            "200\n"
          ]
        }
      ]
    },
    {
      "cell_type": "markdown",
      "source": [
        "### Упражнение 6. Получение информации о пользователях с помощью HTTP-запросов\n",
        "\n",
        "Заполните пропуска, обозначенные троеточием (...)"
      ],
      "metadata": {
        "id": "BgnRJsGjURM2"
      }
    },
    {
      "cell_type": "code",
      "source": [
        "import ...\n",
        "\n",
        "# URL для получения списка пользователей\n",
        "url = 'https://jsonplaceholder.typicode.com/users'\n",
        "\n",
        "# Отправка GET-запроса для получения списка пользователей\n",
        "response = ...\n",
        "\n",
        "# Проверка статуса ответа\n",
        "if response.status_code == 200:\n",
        "    users = response.json()\n",
        "    print('Список пользователей получен успешно.')\n",
        "else:\n",
        "    print('Ошибка при получении списка пользователей:', response.status_code)\n",
        "\n",
        "# Выбор первого пользователя из списка\n",
        "user_id = users[0]['id']\n",
        "\n",
        "# URL для получения информации о выбранном пользователе\n",
        "user_url = f'https://jsonplaceholder.typicode.com/users/{user_id}'\n",
        "\n",
        "# Отправка GET-запроса для получения информации о пользователе\n",
        "user_response = ...\n",
        "\n",
        "# Проверка статуса ответа\n",
        "if user_response.status_code == 200:\n",
        "    user_info = user_response.json()\n",
        "    print('Информация о пользователе получена успешно.')\n",
        "    # Извлечение и вывод информации о пользователе\n",
        "    name = user_info['name']\n",
        "    username = user_info['username']\n",
        "    email = user_info['email']\n",
        "    print(f'Имя: {name}')\n",
        "    print(f'Имя пользователя: {username}')\n",
        "    print(f'Электронная почта: {email}')\n",
        "else:\n",
        "    print('Ошибка при получении информации о пользователе:', user_response.status_code)\n"
      ],
      "metadata": {
        "colab": {
          "base_uri": "https://localhost:8080/"
        },
        "id": "_0AG4lyIUaiG",
        "outputId": "8d2f73cc-554d-4f9d-fdca-f063f4495d75"
      },
      "execution_count": null,
      "outputs": [
        {
          "output_type": "stream",
          "name": "stdout",
          "text": [
            "Список пользователей получен успешно.\n",
            "Информация о пользователе получена успешно.\n",
            "Имя: Leanne Graham\n",
            "Имя пользователя: Bret\n",
            "Электронная почта: Sincere@april.biz\n"
          ]
        }
      ]
    },
    {
      "cell_type": "markdown",
      "source": [
        "## Заключение\n"
      ],
      "metadata": {
        "id": "McAP6SUzJ98-"
      }
    },
    {
      "cell_type": "markdown",
      "source": [
        "\n",
        "На сегодняшнем занятии мы познакомились с Jupyter Notebook и Google Colab, которые являются важными инструментами для работы с данными и создания ИИ-приложений. Мы также изучили несколько полезных библиотек Python, таких как Collections, Pickle, JSON, Regex и Requests. Эти знания помогут вам эффективно работать с различными типами данных и взаимодействовать с веб-сервисами."
      ],
      "metadata": {
        "id": "k0YmjGEYK9PW"
      }
    }
  ]
}