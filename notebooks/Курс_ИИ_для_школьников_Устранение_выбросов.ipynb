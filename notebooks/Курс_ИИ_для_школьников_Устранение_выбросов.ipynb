{
  "nbformat": 4,
  "nbformat_minor": 0,
  "metadata": {
    "colab": {
      "provenance": []
    },
    "kernelspec": {
      "name": "python3",
      "display_name": "Python 3"
    },
    "language_info": {
      "name": "python"
    }
  },
  "cells": [
    {
      "cell_type": "markdown",
      "source": [
        "# Устранение выбросов"
      ],
      "metadata": {
        "id": "XckZLAPxeb2E"
      }
    },
    {
      "cell_type": "markdown",
      "source": [
        "## Что мы изучим на этом занятии"
      ],
      "metadata": {
        "id": "DmpApsYVefqb"
      }
    },
    {
      "cell_type": "markdown",
      "source": [
        "* Устранение выбросов\n",
        "    * Метод z-оценок\n",
        "    * Метод межквартильного размаха (IQR)"
      ],
      "metadata": {
        "id": "2napWki1ekbK"
      }
    },
    {
      "cell_type": "markdown",
      "source": [
        "## Устранение выбросов"
      ],
      "metadata": {
        "id": "MwJ8Os6Uem1C"
      }
    },
    {
      "cell_type": "markdown",
      "source": [
        "Выбросы и аномалии в данных могут существенно влиять на анализ и моделирование, поэтому их обнаружение является важной задачей. Существует множество методов для определения выбросов и аномалий, которые зависят от типа данных и задач анализа. Вот основные методы:\n",
        "\n",
        "1. Статистические методы:\n",
        "   - Метод z-оценок (z-scores)\n",
        "   - Метод межквартильного размаха (IQR)\n",
        "\n",
        "2. Методы машинного обучения:\n",
        "   - Isolation Forest\n",
        "   - One-Class SVM\n",
        "\n",
        "3. Методы на основе кластеризации:\n",
        "   - DBSCAN  "
      ],
      "metadata": {
        "id": "0hNmEc4Re0Yj"
      }
    },
    {
      "cell_type": "markdown",
      "source": [
        "Пока что мы рассмотрим только статистические методы: **метод z-оценок** и **метод межквартильного размаха**"
      ],
      "metadata": {
        "id": "0loLI2L4hhpr"
      }
    },
    {
      "cell_type": "markdown",
      "source": [
        "### Метод z-оценок"
      ],
      "metadata": {
        "id": "6DSVeTophjoT"
      }
    },
    {
      "cell_type": "markdown",
      "source": [
        "#### Z-оценка"
      ],
      "metadata": {
        "id": "aCSCA3vShkET"
      }
    },
    {
      "cell_type": "markdown",
      "source": [
        "**Определение**\n",
        "\n",
        "Z-оценка (или стандартный балл) — это мера, показывающая, на сколько стандартных отклонений (сигм) значение случайной величины отклоняется от её среднего значения. Она позволяет нормализовать значения, что делает их сравнимыми между собой, даже если они принадлежат к разным распределениям."
      ],
      "metadata": {
        "id": "cSKNR7V1hlfb"
      }
    },
    {
      "cell_type": "markdown",
      "source": [
        "**Формула**\n",
        "\n",
        "Для вычисления z-оценки используется следующая формула:\n",
        "\n",
        "$$\n",
        "z = \\frac{X - \\mu}{\\sigma}\n",
        "$$\n",
        "\n",
        "где:\n",
        "- $ X $ — значение случайной величины,\n",
        "- $ \\mu $ — среднее значение (математическое ожидание) распределения,\n",
        "- $ \\sigma $— стандартное отклонение распределения."
      ],
      "metadata": {
        "id": "h7yUwBlYhm1z"
      }
    },
    {
      "cell_type": "markdown",
      "source": [
        "**Интерпретация**\n",
        "\n",
        "1. **Z-оценка 0**: Значение равно среднему.\n",
        "2. **Положительная z-оценка**: Значение выше среднего.\n",
        "3. **Отрицательная z-оценка**: Значение ниже среднего.\n",
        "4. **Абсолютное значение z-оценки**: Показывает, насколько далеко значение от среднего в единицах стандартных отклонений."
      ],
      "metadata": {
        "id": "e9GYHGfYhpvj"
      }
    },
    {
      "cell_type": "markdown",
      "source": [
        "**Пример**\n",
        "\n",
        "Допустим, у нас есть набор данных о росте людей, и средний рост составляет 170 см со стандартным отклонением 10 см. Если у человека рост 180 см, его z-оценка будет:\n",
        "\n",
        "$$\n",
        "z = \\frac{180 - 170}{10} = 1\n",
        "$$\n",
        "\n",
        "Это означает, что рост данного человека на одно стандартное отклонение выше среднего роста в данной группе."
      ],
      "metadata": {
        "id": "HCy0CS3lhrIM"
      }
    },
    {
      "cell_type": "markdown",
      "source": [
        "#### Алгоритм метода z-оценок"
      ],
      "metadata": {
        "id": "cBevcpWFhsqL"
      }
    },
    {
      "cell_type": "markdown",
      "source": [
        "1. Расчет среднего значения и стандартного отклонения\n",
        "\n",
        "2. Вычисление z-оценки для каждого значения\n",
        "\n",
        "3. Определение порога для выбросов:\n",
        "   - Обычно значения, у которых абсолютная z-оценка превышает определенный порог, считаются выбросами. Стандартные пороги:\n",
        "     - |z| > 3: Строгий критерий, который определяет значения, которые находятся более чем на 3 стандартных отклонения от среднего, как выбросы.\n",
        "     - |z| > 2: Менее строгий критерий, используемый в некоторых случаях.\n"
      ],
      "metadata": {
        "id": "W0mOn2LVhtLT"
      }
    },
    {
      "cell_type": "markdown",
      "source": [
        "#### Почему этот метод работает?"
      ],
      "metadata": {
        "id": "hbf6dh72hvij"
      }
    },
    {
      "cell_type": "markdown",
      "source": [
        "![e4f27ae4-d8f2-4261-880a-ac9b2a0510e6-1.webp](data:image/webp;base64,UklGRmQeAABXRUJQVlA4IFgeAAAwwgCdASpXA3EBPp1KoE0lo6MionEJaLATiWdu/DJY+O8m8Kwg5/xOb97Qku+9Mwvq4zzf9H1P+Ybzp/ML+vv7Ae9R6fv8Z6gH+q6lvehv71+M3te6rn5Y/x340+Fv+l/IrsYPb/s77B+VPs/1OPk331/XfmF8Vf4zvj4Av5B/Mf83vWe6f770BfXH6t/x/8P6+/cL0N+1P2wfQB+tn+68sDwffSfYA/l/+Q/8/9u/Cv5Wv/by+/WX/u/1vwGfz//Af9Pr6/u9///eG/cwWfJb0EtmlBb0EtmlBb0EtmlBb0EtmlBb0EtmlBb0EtmlBb0EtmhCXf4khx/WVs0oLegls0oLegls0oLegls0oLeglq0UKr/MdGqLSykjEtNCsPKC3oJbNKC3oJbNKC3oJbNKC3oJbNJTklPwumNOWPo3pnXRHgVF/jSt6CWzSgt6CWzSgt6CWzSf2iHvQDt1UvG94yl3sRoEmeyt6CWzSgt6CWzSgt6CWzSgt6B7eWjPA5j5WzStArbVD//S3oJbNKC3oJbNKC3oJbNKC3oJaveM7KOql40qh6AWmTwdWzSgt6CWzSgt6CWzSgt6CWzSf2iIihTC4pYKmMo5GQxa2+eUhbvvKIb5vaCDtJQW9BLZpQW9BLZpQW9BLZpQW8WVIHmRbz2ds4uQgSfXfsaEPKNwck8w67M2Wm8w2bnk/GNY132JBica4UFbuvGKr4XmpeNK3oJbNKC3oJbNKC3oJbNJ/hFMaYL2kXFSRqOAxjXTIVTVQ6NNUSP4atiM/1rCmosNVRye2k1FFZWzSgt6CWzSgt6CWzSgt6CDklNpnb+XANtdhJgMR25ZDiXZG40iNdUvGlb0EtmlBb0EtmlBTas3ovDOUvaHptztGvVbCZVv2K+9v2DIV0ymZz2VvQS2aUFvQS2aUFvQPuGswcRfaiLBAE3TFOrxHZacfiqXWs1okr36bXAjbKyEB/WDuZORGMMlxEzSzaYUSvb961+98tvQS2aUFvQS2aUFvQPaWYw8CyxS5pJBMAj/x1oCFWkZpkJWIfZ22jxevdzc1MEKUpYiM7SMhJqCdr8I4wkZNYDdhD57RVXtMpyUdwiNdUvGlb0EtmlBb0EqM+iFFUdIM0Kzdn4GuqXjSqxHFl0Hn+roTyi3oJbNKC3oJbNKC3oH0DohUU3sIjguAoVdUvGlViOjYw13ilYTfeyjnsregls0oLeglPi13b6iH/KlgfTOEwlFocnXX1Uu8FakR0l2LENoVpIjoavT/m8vYLWwAvFvN29yJwOG9usIv35KND9AMAlKnZ9GgMNx1xmlBb0EtWuOJz/7Q3nrpUgp8tlAw9TMPcyS6S9E3UxK/0XRz//+WxAbPRBfc3qsx+yCZsdznhGsNNLORZJ3EvudIZLd4YZEuHSl6nwmNV1F4aA00XWUQEqbbGePB2SGL79W73S2cTwS90MAmEdPOVdr95RoJbNKC2kMif7k64FZnG39280Hz7+mGvOGI8cPSLuyj0jpjrqyooqQsUpSxnglR8BBmOfw1nRptaR/DU0iSQdlK/F2ZMz69aAu5bJzhOy9SzdN3/d6BsegyRDClzQhuWCiI11S8aO3IbTp/64zpApN5UVdVKoytonN/YJpvieokNaRcFgzQ0GfkNaR/DVfJdjAi8x7/enYFxFFmT8XCbtAtlHChUrZpQW8+cadoAV3eY6h8H95XKTQO7dOF/vGpakLceQsABafGlhA5qiPiDK5ge8f2oDSKJvGMFtQvcsQ7RM7QPfHJxXoMW6Y6ZSWlsv7BJZ5ImFqn0jQ10Jx6svycEtmlBbxagssl5AACIhxmyFckJgY8jgi/78OOv8z3Xf1n0RYy/8GSXdyrfYyRjwwlfsuBZJ6dP67qm74t3uv/HhgL+aIwpr7FVEpxCy4M/15kh7mkqu8Y8Ub6L4kfZsCD4NAH95sn6eAP5uwDu+ZTjHGFM5c5d0HXObdQNI7KF7VBaf0fPhqyhMxprfwpPazH+7iQ9GG+1sJrql40regls0oLegls0oLegls0oLegls0oLegls0oLegls0oLegls0oLegls0oLegls0oLegegAD+/s9AAAAAACqfEwoRdL9oujG6tVM9hk5tRI++LYVexNBUkr85A0bCHdDg7QstjhNev9Slh3N8eIAAABNeuAR/V4g/02B6lW/K37wIyzn8DNlIibP2JDRD9I648hDvUl2oRBFZsg2SZILnF/8SpD2tlSHLqqsg1PCRTbLNPcI5hiUZDHr4ZqDaJVAXdTp729/WF0rb17wuD5FNl7VvtOUiuWaT8pXRxCA1HIAAAG/WNhe9aLo2Zs6EH+Qc6hzQkz2qRO67EICCs0CPRJ2mCQHL0E+3B1goWQBQEg7NPeUTlpVwABjXvYmdZsgo3H1gACgCl7Kp14YM2J/xBWuQFAW4AAAnNSq8MRuwcX2aIPxEnA9cRYyLhBsDB/xIIoG8DJMOhNyb4oTj4oMlvmS2T+SRvX9CTj3W66hdAFNWz9N8JHcRZu2OnMyV8nOB8d8BgAAHZZYbLbjmrdnnW6xJSZ3mcO5qUnuYzisi+DT/IGs7PZxuDywEaJB66FkB2x8qHxMRER+JCKes4+gzs6K1rb5+Vj2V5GhMAADPMuDBArDtXcKIs3P3Hpi/IP38ibm+mQQ/zW8WfqZCE5F2dNgPRK+WUFXKSdETLhT0rVkRhlzo5xq4h/w1fKUeL/qOju6zfSAAAAJviMusJRgwjzGrjCgikQKfDg1vKwKzBYApmXDql8ASqpoYwSZ1VINozmcU9h7uYn9WPCl9n+eGJ2suX0fiOF79U324WGuv+nfEuM5wMK7Vv1N2pF6B0nyVrSDM83EypnqJkGp9St9f8fu6RMhMUcP9c77Ij1ifXhvul2lLHF5a9amvP2yOc1Rr46lwilQTXm0Sv9RJrjcBJQtBpPEU1fRvPvmS8j8KBQLpig4J9WKToK0DvVhxZEJK6cHyvv9mTAWOA0spNGdgYNGAFkQWXIe9e5hZ+pnOHFKmMvD+jfdZVX7Vp0BsqmiiLUoK4AABQHZK76ly0y7ALNQZAYxX4lP4WIf8jngntcD/en+E2WOpSVZr7H66vd7oGwc1UXBUFD3UsjdgZHakxc41PwXm/z12C+X/kUvezqup166rog6KTBlau0TO2ZWzPqDAKX4ntRJD5iI5LjBXwRJ1tQ+6EhQLBKYD21lR9CgPn9qlS7l/Gumacrkrm2Vaw4xeX+7FTgwGRIdjTX+Gs91By4N4DleAH04oTXJwshiPE9+mR8tCPRqeO1qKelmKFq1oGG29vF81jaxu9AdoUiQ0aZKvmh6VkUo4+kw0wpLypA7s7TMlY1J/gl1UUup57yNnd/v3lFFwfowk+DE+Ak3CcFxFDABmrJYpqY6PYxXWYykC3FynU/ybWRH98SsFFYvlN5/QtRxiCtUA12Ep3lUhLmv4/++eIUYPhVkh5Vi/0eax3jnyy6ykndZJ0z0Ke8RiDGolGmKNVVG9NmmTpdxCmmmLv2rYE0YwABNErUu6B4K9sDL8s7ye3h0vULXX6TZDjsq5sYNCVVP4/LQxXWpCxBHpPXfXrSg40IN8gxuCvYmndUHuyHfCWs7c8rPGOEi3U3FSEzkXlJNvoXyAl722bCILsOM7VpsWWqLiOsn6KOVgocKJjBRG885BJaLFshRNEKIUolKRRDNiyU7r7Pu/UamwSi0TDBYSoyRvEyLeHAmRhKhBCtM70w4XGtZOJNgcplH35uvlZ9gsb1OczDX5PbWE6sYha3ShgvU41LnGkLE3ogLbJ5Wv+QAAA5AoKAjqHwDgIHnzS8Kd+wd++iRDdCbd/uQEM8dDtcmUCqhChf8j0UaPudBfOrMJNlfMgE6NWK0K7Ywi5c2g8X/eR52EGPxuMc7nUVHeAT/F+BxbaVTu/tDyKwcAAIpcq/5esa2F3KVUN0r0OJF2w4TrRr1BnPqxwgC14mUAWSy8JuX6+q8t7DDdveJNGOlO29LfKyhsJFJjVx4DTslXbyX6ZaeftdI0Lj4O0XQ10ldvK9H4BHZKYu5ErlRhDKWsM2zDpeYixqEr0jHma2w1siXXBDj+d7skt+6dNZR7msy0/rZQsWZwFAXYu3YcSP8jI30urnZzFrwFHY2Y9eNTIqQNFUq6veZ9SrJCrg9QAOoMPy3Vmzhnd89iMMf2NnEbx5rekH6H3iF7hj0N93h7SuIaCggkrFCOyLCxQ7cg5b1Gg2iH0S7f16FUBQnr5gbbJCR7+uFjhSKW1GQ3yGq1TLprxPba0e3FnfrVgUKP6ClCWMxvAHRzXxpocQS15M8aDG37tfsYb3kI2fQBvhYO4uoGPrd/WWqzoy5tgWu6fHBOetIdceyw0ACYBZjU8gHJPNuGwpICXhyRpN4KvYmhDKN1bQLIKa6xV/3JP5TphS654xfWKdP8Aics9r8Fy+M6u1Y53UG3reBcu8P/RDQ6LZ/UpS70ju2NYnvFRRn70pdCLGxNEFBDzqftUGY2MQsq5vOAemSRrq9WRlxXuTPZD1q07D8NldLtEOlsPmwgivGjYxmydAylKbnpYQJN7bLndn0eB759uNpDnSYJ+5jFHhOSYXkigm8L+CYDgYDxd7DBxq7uWwZbC+1/OQMdf5obsj9ZzqPY/Yjq0/BsWoIBTdx4pOmrRjoen3OaZiTa2KH/Z3J7P2qdX2XkamEFVkFEQsJAGCPSpbDgnUv5R+q5bJQaE1Yrzusai1ZdTTLlIM5ND2eefM2/r1h5jdX8fKLwJwGXx+ecUk2lYqmrhWB7XOjzZWjsLvd27igWDuEzduTym9SwR9VXMIGekH/G+S7Pd9bYljKkk3Sga7m+3h6jCIAttoto9chDIY2+pojWg8NJPJMhKTjUvffHLsfhce8ZYBLJnQCUHwoWk88BcxazeVufhLS+OAhMr7JHL401q6s9HCk7R6oeKl6E/e+GuaDJi1c5ZAEK3NJ0NKw/7trUgwbvG7XRcHbRN0WOLsK2+rEH0ArgucnkHbSc+Z3uapA3aO/wZ+TZkUL62rD1n7X9Gj0YbBnmvRbpbJfYeS+O94yFl6CH5WDU04AffGmjS9xHfUiQ2nzef2VhzyALTudOdWyDUVxThVkKKh+scy66tpxEKY8jE5LjdqZm0000IAAAFhK0xHyzcvuhbYDIx7qU63NwnLAnsSZxhEsKVAfZOH2qmJ/J7S/156RjZtoG0G81M6L+ESgIVSA0O9H8G3Z6yOs0xDn1kG/YcS5MAOKffvd0MkeDECE75OENpwAA2LTbWgQiPfCF8OpeiPAlrxziIOeYI4diHQEHOXfifye0w/tnPNLsOG0683SQsyVcwalovqScGmWoDKTcwANbFPYRB1iicr/H/2W8pyOo99lwfAkZJdoOONptgvgANokOC8nAdx4olmxkt6b1UB8ngK4/So+thZh/0k9Plav0NWWC//AwN25GzugUJE3cr8rujUgIRNggXzJVBKVmCIjinLetfCNe41QqZCmDcRTJHp4vmM3rw3OiD+OVmYMTVhyW/Q1ssoea94FcU6TDHer/3r42aYU8u0Na9tOVGR61c9kHm16m0LWX5COkZg4G3ruAYym2QWgRnNKGczZ32l1kZir5oMd2VtNZ++txqngCYd5pDA2liSdVR5CeZ8VpAnW9z+OyzjxEr5+Y97Lz9eQRuAL7N+0LfGt8G29U3B6nB0Km8Hmfy5ml78vwv3N9eOEc7EknvXNEoLB3GHsouIM91/8WdRDAQBzTFYCOXV28aG++l1i/7aCHrs4GFcGf3w7HEOKd3fetwEu2ucLNd1NbGV2mhNPp/FIW/vIP2LRLixtfbvrMMkVn0KdiIcEt3ZaC4uHoY5ULRaMWqzlpmvJFRCHc90wO2kPr/2TLwGCfPn6vL14ThlE/9CxcXU459Inq0+WQz6+ac5d/4q47ULKenpywu8ZS9+JYUOqg4vzVZ5eIyNJ12OQ4nXDi/K3NtwGIeQrTgCf7qEMOdUWDO1SH++g2+WYFJYhrUQ8UFWfSsfeybu6RI66vPwDyVLM9CKf0BaeI+huyM6zAR1lIe9bnePDZX73DHngUNwdjfkVlB3oylFMY7FKJWcnhBv8U6cWXrhBk9YjWVEzC9A+7e1mAF8V7XA8/YP48+4nESSa34sRoZY18usBSbCuzdqU7rtp9O3uHLWn2Vwkojn/ox3w3gMgP78xynmh2cPRjdqorYFRDE36FmWjkL3GdBo3TLtVnPkx8D7Z14cG8NRH13nwhhP8sEg0GXvJa77obfG3V3LzB/zMEFVwn7rleppNx+F+CEmUMclpnb9eRm5jo93X//aePOZnI9v/gpEaVTj1bFwYtmZq7qCCYPdT8KuZm2ZgOhhs3/vhjD/4ZE5qICGqn6krubEhj9DK4rwID1useDyl/eJn3+kZJMUVdXWGD2fQ9TeELhzwR5BYPgcLkZNqxPELvV3+MuVt2EjDmZV9dGBRkqHljnBt47KUGfsDlxu/usZ90xyAhwR+5nJUlNic+QtQbJnhO2Sw+wbwYIwSTcGoNnghuhFTpT2S4g3Yxe2qAlJuEvCAX727pNtYH5d2JtzIFiFPKbYImaYi/BGXXc0OAvrWKcvcXgQC6HEamfWSnkyO93vUNPhPrTUpRR2x6EtZeb6dEVn0vvJHRDtIlNAfMXOUAQ5AkLHCMBzksOX8NfviZj4mgLaQUxzyx6YQ+p/O57aKYiQYUX7l3Qd4RHiLOKlm2SVfkeQ0KmfrxHRUL+A8/43FVV/zRlNoJtPMf52zao/U99hFIp3Jr6eQ62srAvSwfP9D8v9ICZLSOsEG4OD9pYKQ5V4YkbGDwJwSsOZQksIDzXidhB9xxrJxxP7dLhIQcwVdjIFtaEtx7/enqQZtyU8qeQ5bMLwIWdUWdADmkB7sRIKsf42wGMsK5IvBBt9fxhxDvkQvrU8eWdMeQ7+LVDtsKosfOp2IurADtUSCZHTP61QtoTRaU8J0yL01CitqL+nffuT4cpiLP7CLO96PBQyNWb/y0bdSAov5FnCqrgILz9C6Ngwzra3I7Qus+Cc56h5wKf1XVe7jSwUjCiw8TlCksJ2f1diK7xJW0xozeV89r7XB9JZMInaKPsb6H8rn1FI1UZvgEXt3iAS8WR7/hlioZse7y8FNbM1raPZgfkoLr87kh90GaPujLD207/36hvlUg6K0JW6wElU6+yQOTTqVVi257k15BpxGgLYrqCkz/mYg0OU8W4dLqLP3jPCsAToL/SyfrJwjPquuMT0XgED9kYXWB4o4oAOcBP6DJ6KMoSvKDZzV5xt112/LheIDv/sDGD6kxsSz2IXc/RRA7Px0rd6hvnJAQwEBfMVsYR4d+SEFmMMo8vgAsCcvW/nJfXb6AfUuK3v1MdKKMunScof3m1xnHHqubJnFZoFf9SsNRIb77XTdb0JtMFk00hGCMbbb+0f+FLDjHsp+xAYZeOFnEXv/Xs/VfbX7IXScqpm9j/ts3AL33AyI4x1ryD+iprTBVaWGwWyOuaAQqbeLRcm8QSrnYLMFAHySp2DRN4KEKAzgiAngsNq9opGCSoIOdgwis5razD0trtC6iXvex9WkZZzwjNm0AkgQQS+KZYK3obWrxughvZmSJeeQu7KH4ZeVl8rpOXOFHiwAf0eWp+xcZvg/1FrqnRZU7w2ntsd5kzg1EUx7Bf0blEjY5EV+hr1fYGnIYWFugYSoJQPXLfBuw9LpxZoQ9nfPI2n7sHoM/1qTaUjqhSWzIFtT4CJ6leiIhLM8opmRI7uUqnCQF8y5DnUgQt/80Ukl8PQaVbA57YGUwr/QE/Vo862N7zYy9LDivmYjVNbaOlXJBeG6FyFGm70HEHaKHqAFcedNqZfYHcy7oqlwW5mdYOHBn/G0B/TZW3HNAromrFe+ye2dEDYFetk0S/GEdZD/sMVadPmJLxyK93tOItKxLpHMgGVA+6GPcgyOwZof/BnXfSXkKZjGPTdfbL/4d02P7vv80jgbPGpzGWHoYx+q3kTbnib/WVw9/SkWnE+7S4mMnyk9qyXGv9r2T5A/kohNHcA0bWJ3AXKOWfeNevR8e6msDgzwTfJVrzgOSwLobQQpUMuVJEqNv2Fw10d5B/Vz/8PjaUsiV78ZajMVfjfezznwLANUfkh25XCWeWeuiQLGMtZ2nvvAsJ320CW8pU5hQhYa9HrrUoASXP3B8SXvj9+dHi67CleBTOSVslxHPEEeazsk2vJZHFwaMWtM92WrNhb+pA6xaNWttsnYA8SwyD0UcqmIK7GFs1tIlsyDi2nFOM0Mnfpo/k9YeN/vvmQ6/v5ubudGnyMh6OTqll0MuM/rinEn3rHx2nX2jy36VM0/fPBMTqPxP8Lf35BwfYrdPhVO0lRzumnt5claFHgnynGNybtW/4tiUQsTXnQdw6dTrJLcWuFba2+CrWSP5V4zNVYWFicvzPwCLYo8OKKihPI+WlhZfpBZHy4k6daEX86KXZ8oT1szZCK8jUoJ8mLCA/u0Tyyo2ayaA17Om6y01hJBO35jMXenV5Pz/KbyWtMaJyLoMSWRAqubff6eGFB1Wc7pp7eXgmz458bHHQXbh/JAZSU2T4ag5JfpC3QSc3cKn1y+FMS/v1M3WfFcdc1veGwq1OL/hna6/5bcZFgdJl3lQRSp8hnKhih30OHMywP1KxFWJ9UlK4/sr9rNrAJQGN30z9bxopy/zHWrEnkyXLJfV+xjoRFS6qkRZjhBPRsIaK+yClilbi2grKglA24F/X6zNszAFljb9U7lI100ehwq3H/Lf0m0qNiVRgW4MHE34yfV/DPxz4O9ZTeHCsi+sm1bp513G2gRf4H4s4bRgaAl2SacSnSO30KWdiT2z6+RMFcogAJ5JstsgWtND+o9dSdbiLyXVsQ8z3UGYsxSndrPEBPPCcm/MBB0lnh8W3sBJ1y0e5RGlXR/vhFfI6Em00eIYpxVWOMTVzdj/bZs4tr4VA3sK85W+puyxgiQtcHocH0FLy6j0P8btLCNhWWTy6AMzhhiWSQF5wlxzZCnVojd8dXVb9Tskc2tCXF2Nbdz/kCh6JKlBnGb92dsBNem9BWenuHPpwzi3m6lX6PfM+2X+U6dXsmZ62a4RfQu8pW+Wvx3Vrh02783vMrvRDyhYyevZcxqZIH59iVbtbkPyug/H0YI4RP/AXcvSlsgNnv/qDRoeg1og8JUczPqxx772sOqvDCrfNs5+SewvXOd/EXOy59tYA3P9kDrXjT0NwTr6ILGl3BL7XxJ4a01ttPInwOgxqxUjQJx+rwa/4KXigmB3Oiq6E/hLl58CXHNjKtmjSe7o1Q36nZI5taEuLsa27n/IFD4MzgDW7ulC66j6cy1Q88WryiWb0rNOfW9fLj89x08rOJUPCW0yk6JkKi5V3smZ62a4RTHdh1mRRxjEMgb7CLqT5kD7U5kk6jC5FqXjsWEfDqiqMFezWosxGTVxyfb/8cnzYcL/fKTDrWcFkR6JvLXjVcMotJUb1ChpCIRgqvDv4VK8T/x3qpf7Qf6z5G8H3kJUT3CwU6w8PFKMTouxueQQGZeglncm5rNp+L/DLNZwO0zZpzvkQP+UuOnUPH3dKmxnI+ERr7S/CUjLiIjuPKeLI47vrcerMlhxS3DF+MTJDJeh+pbAqv18mn/6hN6QPQJPKDzsfzlSMrOx/KO3FhakS2QXaXHSP7zR/ABMsoqMplPa3t2gHF+xXWs5bVsDcF6VuAp8mJgwniPvYrZw69OmNJA6+ljOrQACKempO3/7Ubb5ng+ad+0rWTsRGP153wixzj+8WzNv0Y7OvDFg/AAJuZLN+M4TCCPHB+HB4SYEFTCfa/r39e8nb4iKCghxmVS3liggIoSsEil3HEzykDDg5Msr+hySaxp0Hk7+lC6Wtg8QW3XLO8Rh51j05hYBLIRjXgHWliyVyiPtS4CQPep4W32R5oqK8W0JhZczXc8szTJsYGzcMRp9RQmW69dgNEykeseKiO/eAPAVBp+T0fNrwl10AJLke+M6VU/xH0gXBU5SgQ/wyu5ZsSdIBFzo0GINWU8PqM9Jc5SJTjHBQwNII2OyOa4aWS/OZgaHodzfyZlgWumxVmqLQy2+1t2VgqrYW8brnlMnpo/ucJwGVEBMKFaT7JKPBnbDsmKg52VkvQnXCrpPphauzq8pMuHGBimBAN9g5Y4YBkeY7CKbrqKpt3+755i62XpqTGxPGCsZXncC7JChpexUqzUOw4dBmDVLSvWtUYUQFMEsdq2x4rTa5NR1Ao3INhTFKfvz+PCIO+OMhc2uEG6a2VwHa8vYFbZbdOCA29xdXk/aj5JLOB5hwHpbJgk+op+blFPKn1BjHNaQAAVGY/irY4apY9AAAAAAAAAA)"
      ],
      "metadata": {
        "id": "pzmmgQErhxBE"
      }
    },
    {
      "cell_type": "markdown",
      "source": [
        "Метод z-оценок определяет выбросы как значения, которые сильно отдалены от среднего значения. Здесь приходит на помощь стандартное отклонение, которое измеряет разброс данных относительно среднего. Чем больше значение стандартного отклонения, тем больше разброс данных. Использование z-оценок позволяет стандартизировать этот разброс и выразить его в виде количества стандартных отклонений от среднего."
      ],
      "metadata": {
        "id": "4DGNZnWKhx0j"
      }
    },
    {
      "cell_type": "markdown",
      "source": [
        "#### Определение выбросов методом z-оценок на практике"
      ],
      "metadata": {
        "id": "fhlbx47Th1jz"
      }
    },
    {
      "cell_type": "markdown",
      "source": [
        "Давайте используем датасет `tips` из библиотеки Seaborn и определим выбросы с помощью метода z-оценок. Этот датасет содержит информацию о чаевых, оставленных в ресторане, и мы будем искать выбросы в столбце `total_bill`."
      ],
      "metadata": {
        "id": "FOcnDItMh24j"
      }
    },
    {
      "cell_type": "code",
      "execution_count": null,
      "metadata": {
        "colab": {
          "base_uri": "https://localhost:8080/",
          "height": 424
        },
        "id": "mDUKHxjOeID4",
        "outputId": "4a72594a-f54e-4f43-c8a6-5604d0189fc4"
      },
      "outputs": [
        {
          "output_type": "execute_result",
          "data": {
            "text/plain": [
              "     total_bill   tip     sex smoker   day    time  size\n",
              "0         16.99  1.01  Female     No   Sun  Dinner     2\n",
              "1         10.34  1.66    Male     No   Sun  Dinner     3\n",
              "2         21.01  3.50    Male     No   Sun  Dinner     3\n",
              "3         23.68  3.31    Male     No   Sun  Dinner     2\n",
              "4         24.59  3.61  Female     No   Sun  Dinner     4\n",
              "..          ...   ...     ...    ...   ...     ...   ...\n",
              "239       29.03  5.92    Male     No   Sat  Dinner     3\n",
              "240       27.18  2.00  Female    Yes   Sat  Dinner     2\n",
              "241       22.67  2.00    Male    Yes   Sat  Dinner     2\n",
              "242       17.82  1.75    Male     No   Sat  Dinner     2\n",
              "243       18.78  3.00  Female     No  Thur  Dinner     2\n",
              "\n",
              "[244 rows x 7 columns]"
            ],
            "text/html": [
              "\n",
              "  <div id=\"df-b659a68f-7c60-4837-bb59-1642d03ff05a\" class=\"colab-df-container\">\n",
              "    <div>\n",
              "<style scoped>\n",
              "    .dataframe tbody tr th:only-of-type {\n",
              "        vertical-align: middle;\n",
              "    }\n",
              "\n",
              "    .dataframe tbody tr th {\n",
              "        vertical-align: top;\n",
              "    }\n",
              "\n",
              "    .dataframe thead th {\n",
              "        text-align: right;\n",
              "    }\n",
              "</style>\n",
              "<table border=\"1\" class=\"dataframe\">\n",
              "  <thead>\n",
              "    <tr style=\"text-align: right;\">\n",
              "      <th></th>\n",
              "      <th>total_bill</th>\n",
              "      <th>tip</th>\n",
              "      <th>sex</th>\n",
              "      <th>smoker</th>\n",
              "      <th>day</th>\n",
              "      <th>time</th>\n",
              "      <th>size</th>\n",
              "    </tr>\n",
              "  </thead>\n",
              "  <tbody>\n",
              "    <tr>\n",
              "      <th>0</th>\n",
              "      <td>16.99</td>\n",
              "      <td>1.01</td>\n",
              "      <td>Female</td>\n",
              "      <td>No</td>\n",
              "      <td>Sun</td>\n",
              "      <td>Dinner</td>\n",
              "      <td>2</td>\n",
              "    </tr>\n",
              "    <tr>\n",
              "      <th>1</th>\n",
              "      <td>10.34</td>\n",
              "      <td>1.66</td>\n",
              "      <td>Male</td>\n",
              "      <td>No</td>\n",
              "      <td>Sun</td>\n",
              "      <td>Dinner</td>\n",
              "      <td>3</td>\n",
              "    </tr>\n",
              "    <tr>\n",
              "      <th>2</th>\n",
              "      <td>21.01</td>\n",
              "      <td>3.50</td>\n",
              "      <td>Male</td>\n",
              "      <td>No</td>\n",
              "      <td>Sun</td>\n",
              "      <td>Dinner</td>\n",
              "      <td>3</td>\n",
              "    </tr>\n",
              "    <tr>\n",
              "      <th>3</th>\n",
              "      <td>23.68</td>\n",
              "      <td>3.31</td>\n",
              "      <td>Male</td>\n",
              "      <td>No</td>\n",
              "      <td>Sun</td>\n",
              "      <td>Dinner</td>\n",
              "      <td>2</td>\n",
              "    </tr>\n",
              "    <tr>\n",
              "      <th>4</th>\n",
              "      <td>24.59</td>\n",
              "      <td>3.61</td>\n",
              "      <td>Female</td>\n",
              "      <td>No</td>\n",
              "      <td>Sun</td>\n",
              "      <td>Dinner</td>\n",
              "      <td>4</td>\n",
              "    </tr>\n",
              "    <tr>\n",
              "      <th>...</th>\n",
              "      <td>...</td>\n",
              "      <td>...</td>\n",
              "      <td>...</td>\n",
              "      <td>...</td>\n",
              "      <td>...</td>\n",
              "      <td>...</td>\n",
              "      <td>...</td>\n",
              "    </tr>\n",
              "    <tr>\n",
              "      <th>239</th>\n",
              "      <td>29.03</td>\n",
              "      <td>5.92</td>\n",
              "      <td>Male</td>\n",
              "      <td>No</td>\n",
              "      <td>Sat</td>\n",
              "      <td>Dinner</td>\n",
              "      <td>3</td>\n",
              "    </tr>\n",
              "    <tr>\n",
              "      <th>240</th>\n",
              "      <td>27.18</td>\n",
              "      <td>2.00</td>\n",
              "      <td>Female</td>\n",
              "      <td>Yes</td>\n",
              "      <td>Sat</td>\n",
              "      <td>Dinner</td>\n",
              "      <td>2</td>\n",
              "    </tr>\n",
              "    <tr>\n",
              "      <th>241</th>\n",
              "      <td>22.67</td>\n",
              "      <td>2.00</td>\n",
              "      <td>Male</td>\n",
              "      <td>Yes</td>\n",
              "      <td>Sat</td>\n",
              "      <td>Dinner</td>\n",
              "      <td>2</td>\n",
              "    </tr>\n",
              "    <tr>\n",
              "      <th>242</th>\n",
              "      <td>17.82</td>\n",
              "      <td>1.75</td>\n",
              "      <td>Male</td>\n",
              "      <td>No</td>\n",
              "      <td>Sat</td>\n",
              "      <td>Dinner</td>\n",
              "      <td>2</td>\n",
              "    </tr>\n",
              "    <tr>\n",
              "      <th>243</th>\n",
              "      <td>18.78</td>\n",
              "      <td>3.00</td>\n",
              "      <td>Female</td>\n",
              "      <td>No</td>\n",
              "      <td>Thur</td>\n",
              "      <td>Dinner</td>\n",
              "      <td>2</td>\n",
              "    </tr>\n",
              "  </tbody>\n",
              "</table>\n",
              "<p>244 rows × 7 columns</p>\n",
              "</div>\n",
              "    <div class=\"colab-df-buttons\">\n",
              "\n",
              "  <div class=\"colab-df-container\">\n",
              "    <button class=\"colab-df-convert\" onclick=\"convertToInteractive('df-b659a68f-7c60-4837-bb59-1642d03ff05a')\"\n",
              "            title=\"Convert this dataframe to an interactive table.\"\n",
              "            style=\"display:none;\">\n",
              "\n",
              "  <svg xmlns=\"http://www.w3.org/2000/svg\" height=\"24px\" viewBox=\"0 -960 960 960\">\n",
              "    <path d=\"M120-120v-720h720v720H120Zm60-500h600v-160H180v160Zm220 220h160v-160H400v160Zm0 220h160v-160H400v160ZM180-400h160v-160H180v160Zm440 0h160v-160H620v160ZM180-180h160v-160H180v160Zm440 0h160v-160H620v160Z\"/>\n",
              "  </svg>\n",
              "    </button>\n",
              "\n",
              "  <style>\n",
              "    .colab-df-container {\n",
              "      display:flex;\n",
              "      gap: 12px;\n",
              "    }\n",
              "\n",
              "    .colab-df-convert {\n",
              "      background-color: #E8F0FE;\n",
              "      border: none;\n",
              "      border-radius: 50%;\n",
              "      cursor: pointer;\n",
              "      display: none;\n",
              "      fill: #1967D2;\n",
              "      height: 32px;\n",
              "      padding: 0 0 0 0;\n",
              "      width: 32px;\n",
              "    }\n",
              "\n",
              "    .colab-df-convert:hover {\n",
              "      background-color: #E2EBFA;\n",
              "      box-shadow: 0px 1px 2px rgba(60, 64, 67, 0.3), 0px 1px 3px 1px rgba(60, 64, 67, 0.15);\n",
              "      fill: #174EA6;\n",
              "    }\n",
              "\n",
              "    .colab-df-buttons div {\n",
              "      margin-bottom: 4px;\n",
              "    }\n",
              "\n",
              "    [theme=dark] .colab-df-convert {\n",
              "      background-color: #3B4455;\n",
              "      fill: #D2E3FC;\n",
              "    }\n",
              "\n",
              "    [theme=dark] .colab-df-convert:hover {\n",
              "      background-color: #434B5C;\n",
              "      box-shadow: 0px 1px 3px 1px rgba(0, 0, 0, 0.15);\n",
              "      filter: drop-shadow(0px 1px 2px rgba(0, 0, 0, 0.3));\n",
              "      fill: #FFFFFF;\n",
              "    }\n",
              "  </style>\n",
              "\n",
              "    <script>\n",
              "      const buttonEl =\n",
              "        document.querySelector('#df-b659a68f-7c60-4837-bb59-1642d03ff05a button.colab-df-convert');\n",
              "      buttonEl.style.display =\n",
              "        google.colab.kernel.accessAllowed ? 'block' : 'none';\n",
              "\n",
              "      async function convertToInteractive(key) {\n",
              "        const element = document.querySelector('#df-b659a68f-7c60-4837-bb59-1642d03ff05a');\n",
              "        const dataTable =\n",
              "          await google.colab.kernel.invokeFunction('convertToInteractive',\n",
              "                                                    [key], {});\n",
              "        if (!dataTable) return;\n",
              "\n",
              "        const docLinkHtml = 'Like what you see? Visit the ' +\n",
              "          '<a target=\"_blank\" href=https://colab.research.google.com/notebooks/data_table.ipynb>data table notebook</a>'\n",
              "          + ' to learn more about interactive tables.';\n",
              "        element.innerHTML = '';\n",
              "        dataTable['output_type'] = 'display_data';\n",
              "        await google.colab.output.renderOutput(dataTable, element);\n",
              "        const docLink = document.createElement('div');\n",
              "        docLink.innerHTML = docLinkHtml;\n",
              "        element.appendChild(docLink);\n",
              "      }\n",
              "    </script>\n",
              "  </div>\n",
              "\n",
              "\n",
              "<div id=\"df-86b5a7b6-50e3-4739-81f5-99f107e60f94\">\n",
              "  <button class=\"colab-df-quickchart\" onclick=\"quickchart('df-86b5a7b6-50e3-4739-81f5-99f107e60f94')\"\n",
              "            title=\"Suggest charts\"\n",
              "            style=\"display:none;\">\n",
              "\n",
              "<svg xmlns=\"http://www.w3.org/2000/svg\" height=\"24px\"viewBox=\"0 0 24 24\"\n",
              "     width=\"24px\">\n",
              "    <g>\n",
              "        <path d=\"M19 3H5c-1.1 0-2 .9-2 2v14c0 1.1.9 2 2 2h14c1.1 0 2-.9 2-2V5c0-1.1-.9-2-2-2zM9 17H7v-7h2v7zm4 0h-2V7h2v10zm4 0h-2v-4h2v4z\"/>\n",
              "    </g>\n",
              "</svg>\n",
              "  </button>\n",
              "\n",
              "<style>\n",
              "  .colab-df-quickchart {\n",
              "      --bg-color: #E8F0FE;\n",
              "      --fill-color: #1967D2;\n",
              "      --hover-bg-color: #E2EBFA;\n",
              "      --hover-fill-color: #174EA6;\n",
              "      --disabled-fill-color: #AAA;\n",
              "      --disabled-bg-color: #DDD;\n",
              "  }\n",
              "\n",
              "  [theme=dark] .colab-df-quickchart {\n",
              "      --bg-color: #3B4455;\n",
              "      --fill-color: #D2E3FC;\n",
              "      --hover-bg-color: #434B5C;\n",
              "      --hover-fill-color: #FFFFFF;\n",
              "      --disabled-bg-color: #3B4455;\n",
              "      --disabled-fill-color: #666;\n",
              "  }\n",
              "\n",
              "  .colab-df-quickchart {\n",
              "    background-color: var(--bg-color);\n",
              "    border: none;\n",
              "    border-radius: 50%;\n",
              "    cursor: pointer;\n",
              "    display: none;\n",
              "    fill: var(--fill-color);\n",
              "    height: 32px;\n",
              "    padding: 0;\n",
              "    width: 32px;\n",
              "  }\n",
              "\n",
              "  .colab-df-quickchart:hover {\n",
              "    background-color: var(--hover-bg-color);\n",
              "    box-shadow: 0 1px 2px rgba(60, 64, 67, 0.3), 0 1px 3px 1px rgba(60, 64, 67, 0.15);\n",
              "    fill: var(--button-hover-fill-color);\n",
              "  }\n",
              "\n",
              "  .colab-df-quickchart-complete:disabled,\n",
              "  .colab-df-quickchart-complete:disabled:hover {\n",
              "    background-color: var(--disabled-bg-color);\n",
              "    fill: var(--disabled-fill-color);\n",
              "    box-shadow: none;\n",
              "  }\n",
              "\n",
              "  .colab-df-spinner {\n",
              "    border: 2px solid var(--fill-color);\n",
              "    border-color: transparent;\n",
              "    border-bottom-color: var(--fill-color);\n",
              "    animation:\n",
              "      spin 1s steps(1) infinite;\n",
              "  }\n",
              "\n",
              "  @keyframes spin {\n",
              "    0% {\n",
              "      border-color: transparent;\n",
              "      border-bottom-color: var(--fill-color);\n",
              "      border-left-color: var(--fill-color);\n",
              "    }\n",
              "    20% {\n",
              "      border-color: transparent;\n",
              "      border-left-color: var(--fill-color);\n",
              "      border-top-color: var(--fill-color);\n",
              "    }\n",
              "    30% {\n",
              "      border-color: transparent;\n",
              "      border-left-color: var(--fill-color);\n",
              "      border-top-color: var(--fill-color);\n",
              "      border-right-color: var(--fill-color);\n",
              "    }\n",
              "    40% {\n",
              "      border-color: transparent;\n",
              "      border-right-color: var(--fill-color);\n",
              "      border-top-color: var(--fill-color);\n",
              "    }\n",
              "    60% {\n",
              "      border-color: transparent;\n",
              "      border-right-color: var(--fill-color);\n",
              "    }\n",
              "    80% {\n",
              "      border-color: transparent;\n",
              "      border-right-color: var(--fill-color);\n",
              "      border-bottom-color: var(--fill-color);\n",
              "    }\n",
              "    90% {\n",
              "      border-color: transparent;\n",
              "      border-bottom-color: var(--fill-color);\n",
              "    }\n",
              "  }\n",
              "</style>\n",
              "\n",
              "  <script>\n",
              "    async function quickchart(key) {\n",
              "      const quickchartButtonEl =\n",
              "        document.querySelector('#' + key + ' button');\n",
              "      quickchartButtonEl.disabled = true;  // To prevent multiple clicks.\n",
              "      quickchartButtonEl.classList.add('colab-df-spinner');\n",
              "      try {\n",
              "        const charts = await google.colab.kernel.invokeFunction(\n",
              "            'suggestCharts', [key], {});\n",
              "      } catch (error) {\n",
              "        console.error('Error during call to suggestCharts:', error);\n",
              "      }\n",
              "      quickchartButtonEl.classList.remove('colab-df-spinner');\n",
              "      quickchartButtonEl.classList.add('colab-df-quickchart-complete');\n",
              "    }\n",
              "    (() => {\n",
              "      let quickchartButtonEl =\n",
              "        document.querySelector('#df-86b5a7b6-50e3-4739-81f5-99f107e60f94 button');\n",
              "      quickchartButtonEl.style.display =\n",
              "        google.colab.kernel.accessAllowed ? 'block' : 'none';\n",
              "    })();\n",
              "  </script>\n",
              "</div>\n",
              "\n",
              "  <div id=\"id_03d5292e-431f-44ce-9862-68006f66e5c8\">\n",
              "    <style>\n",
              "      .colab-df-generate {\n",
              "        background-color: #E8F0FE;\n",
              "        border: none;\n",
              "        border-radius: 50%;\n",
              "        cursor: pointer;\n",
              "        display: none;\n",
              "        fill: #1967D2;\n",
              "        height: 32px;\n",
              "        padding: 0 0 0 0;\n",
              "        width: 32px;\n",
              "      }\n",
              "\n",
              "      .colab-df-generate:hover {\n",
              "        background-color: #E2EBFA;\n",
              "        box-shadow: 0px 1px 2px rgba(60, 64, 67, 0.3), 0px 1px 3px 1px rgba(60, 64, 67, 0.15);\n",
              "        fill: #174EA6;\n",
              "      }\n",
              "\n",
              "      [theme=dark] .colab-df-generate {\n",
              "        background-color: #3B4455;\n",
              "        fill: #D2E3FC;\n",
              "      }\n",
              "\n",
              "      [theme=dark] .colab-df-generate:hover {\n",
              "        background-color: #434B5C;\n",
              "        box-shadow: 0px 1px 3px 1px rgba(0, 0, 0, 0.15);\n",
              "        filter: drop-shadow(0px 1px 2px rgba(0, 0, 0, 0.3));\n",
              "        fill: #FFFFFF;\n",
              "      }\n",
              "    </style>\n",
              "    <button class=\"colab-df-generate\" onclick=\"generateWithVariable('data')\"\n",
              "            title=\"Generate code using this dataframe.\"\n",
              "            style=\"display:none;\">\n",
              "\n",
              "  <svg xmlns=\"http://www.w3.org/2000/svg\" height=\"24px\"viewBox=\"0 0 24 24\"\n",
              "       width=\"24px\">\n",
              "    <path d=\"M7,19H8.4L18.45,9,17,7.55,7,17.6ZM5,21V16.75L18.45,3.32a2,2,0,0,1,2.83,0l1.4,1.43a1.91,1.91,0,0,1,.58,1.4,1.91,1.91,0,0,1-.58,1.4L9.25,21ZM18.45,9,17,7.55Zm-12,3A5.31,5.31,0,0,0,4.9,8.1,5.31,5.31,0,0,0,1,6.5,5.31,5.31,0,0,0,4.9,4.9,5.31,5.31,0,0,0,6.5,1,5.31,5.31,0,0,0,8.1,4.9,5.31,5.31,0,0,0,12,6.5,5.46,5.46,0,0,0,6.5,12Z\"/>\n",
              "  </svg>\n",
              "    </button>\n",
              "    <script>\n",
              "      (() => {\n",
              "      const buttonEl =\n",
              "        document.querySelector('#id_03d5292e-431f-44ce-9862-68006f66e5c8 button.colab-df-generate');\n",
              "      buttonEl.style.display =\n",
              "        google.colab.kernel.accessAllowed ? 'block' : 'none';\n",
              "\n",
              "      buttonEl.onclick = () => {\n",
              "        google.colab.notebook.generateWithVariable('data');\n",
              "      }\n",
              "      })();\n",
              "    </script>\n",
              "  </div>\n",
              "\n",
              "    </div>\n",
              "  </div>\n"
            ],
            "application/vnd.google.colaboratory.intrinsic+json": {
              "type": "dataframe",
              "variable_name": "data",
              "summary": "{\n  \"name\": \"data\",\n  \"rows\": 244,\n  \"fields\": [\n    {\n      \"column\": \"total_bill\",\n      \"properties\": {\n        \"dtype\": \"number\",\n        \"std\": 8.902411954856856,\n        \"min\": 3.07,\n        \"max\": 50.81,\n        \"num_unique_values\": 229,\n        \"samples\": [\n          22.12,\n          20.23,\n          14.78\n        ],\n        \"semantic_type\": \"\",\n        \"description\": \"\"\n      }\n    },\n    {\n      \"column\": \"tip\",\n      \"properties\": {\n        \"dtype\": \"number\",\n        \"std\": 1.3836381890011822,\n        \"min\": 1.0,\n        \"max\": 10.0,\n        \"num_unique_values\": 123,\n        \"samples\": [\n          3.35,\n          1.5,\n          6.73\n        ],\n        \"semantic_type\": \"\",\n        \"description\": \"\"\n      }\n    },\n    {\n      \"column\": \"sex\",\n      \"properties\": {\n        \"dtype\": \"category\",\n        \"num_unique_values\": 2,\n        \"samples\": [\n          \"Male\",\n          \"Female\"\n        ],\n        \"semantic_type\": \"\",\n        \"description\": \"\"\n      }\n    },\n    {\n      \"column\": \"smoker\",\n      \"properties\": {\n        \"dtype\": \"category\",\n        \"num_unique_values\": 2,\n        \"samples\": [\n          \"Yes\",\n          \"No\"\n        ],\n        \"semantic_type\": \"\",\n        \"description\": \"\"\n      }\n    },\n    {\n      \"column\": \"day\",\n      \"properties\": {\n        \"dtype\": \"category\",\n        \"num_unique_values\": 4,\n        \"samples\": [\n          \"Sat\",\n          \"Fri\"\n        ],\n        \"semantic_type\": \"\",\n        \"description\": \"\"\n      }\n    },\n    {\n      \"column\": \"time\",\n      \"properties\": {\n        \"dtype\": \"category\",\n        \"num_unique_values\": 2,\n        \"samples\": [\n          \"Lunch\",\n          \"Dinner\"\n        ],\n        \"semantic_type\": \"\",\n        \"description\": \"\"\n      }\n    },\n    {\n      \"column\": \"size\",\n      \"properties\": {\n        \"dtype\": \"number\",\n        \"std\": 0,\n        \"min\": 1,\n        \"max\": 6,\n        \"num_unique_values\": 6,\n        \"samples\": [\n          2,\n          3\n        ],\n        \"semantic_type\": \"\",\n        \"description\": \"\"\n      }\n    }\n  ]\n}"
            }
          },
          "metadata": {},
          "execution_count": 1
        }
      ],
      "source": [
        "import seaborn as sns\n",
        "import pandas as pd\n",
        "import numpy as np\n",
        "from scipy import stats\n",
        "\n",
        "# Загрузка датасета\n",
        "data = sns.load_dataset(\"tips\")\n",
        "data"
      ]
    },
    {
      "cell_type": "code",
      "source": [
        "# Рассчитываем z-оценки для столбца 'total_bill'\n",
        "z_scores = stats.zscore(data['total_bill'])\n",
        "\n",
        "# Определяем порог для выбросов\n",
        "threshold = 3\n",
        "\n",
        "# Находим выбросы\n",
        "outliers = np.abs(z_scores) > threshold\n",
        "\n",
        "# Выводим выбросы\n",
        "outliers_data = data[outliers]\n",
        "\n",
        "print(\"Выбросы в столбце 'total_bill':\")\n",
        "print(outliers_data)"
      ],
      "metadata": {
        "colab": {
          "base_uri": "https://localhost:8080/"
        },
        "id": "0dP3X1Uph5aj",
        "outputId": "fdd75db5-505d-4a78-a264-c1a594e574dd"
      },
      "execution_count": null,
      "outputs": [
        {
          "output_type": "stream",
          "name": "stdout",
          "text": [
            "Выбросы в столбце 'total_bill':\n",
            "     total_bill    tip   sex smoker  day    time  size\n",
            "59        48.27   6.73  Male     No  Sat  Dinner     4\n",
            "156       48.17   5.00  Male     No  Sun  Dinner     6\n",
            "170       50.81  10.00  Male    Yes  Sat  Dinner     3\n",
            "212       48.33   9.00  Male     No  Sat  Dinner     4\n"
          ]
        }
      ]
    },
    {
      "cell_type": "markdown",
      "source": [
        "Мы определили выбросы: это 4 записи, в которых `total_bill` находится в районе пятидесяти. Давайте посмотрим на как это выглядит на гистограмме"
      ],
      "metadata": {
        "id": "qX7ML5N0h7aq"
      }
    },
    {
      "cell_type": "code",
      "source": [
        "import matplotlib.pyplot as plt\n",
        "\n",
        "# Визуализация данных на гистограмме\n",
        "plt.figure(figsize=(12, 8))\n",
        "sns.histplot(data['total_bill'], bins=30, color='blue', label='Data')\n",
        "\n",
        "plt.title('Гистограмма значений total_bill')\n",
        "plt.xlabel('Total Bill')\n",
        "plt.ylabel('Frequency')\n",
        "plt.legend()\n",
        "plt.show()"
      ],
      "metadata": {
        "colab": {
          "base_uri": "https://localhost:8080/",
          "height": 718
        },
        "id": "TucXQXEIh_5r",
        "outputId": "825f1a0b-998e-4866-e786-95f01a616829"
      },
      "execution_count": null,
      "outputs": [
        {
          "output_type": "display_data",
          "data": {
            "text/plain": [
              "<Figure size 1200x800 with 1 Axes>"
            ],
            "image/png": "[encoded data removed]"
          },
          "metadata": {}
        }
      ]
    },
    {
      "cell_type": "markdown",
      "source": [
        "На гистограмме мы можем видеть, что значения, близкие к 50, находятся вдали от большинства значений. Таким образом, мы можем сказать, что эти отдалённые значения являются выбросами"
      ],
      "metadata": {
        "id": "R1B3HUP1iCTr"
      }
    },
    {
      "cell_type": "markdown",
      "source": [
        "### Метод межквартильного размаха (IQR)"
      ],
      "metadata": {
        "id": "P99CdqBAiDy7"
      }
    },
    {
      "cell_type": "markdown",
      "source": [
        "#### Квартили"
      ],
      "metadata": {
        "id": "l4yDAFPLiFXS"
      }
    },
    {
      "cell_type": "markdown",
      "source": [
        "![508002.png](data:image/png;base64,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)\n",
        "\n",
        "Источник: https://cdn.oblakoz.ru//IMUMKContent/696110/content/419693/508002.png"
      ],
      "metadata": {
        "id": "jXvGmx2ViGuy"
      }
    },
    {
      "cell_type": "markdown",
      "source": [
        "Квартиль — это статистическая мера, которая делит упорядоченный набор данных на четыре равные части. В общей сложности есть три квартиля, которые помогают описать распределение данных.\n",
        "\n",
        "1. **Первый квартиль (Q1)**: Это значение, ниже которого находится 25% данных. Иначе говоря, 25% данных меньше или равны этому значению.\n",
        "\n",
        "2. **Второй квартиль (Q2)**: Это медиана набора данных, то есть значение, которое делит данные на две равные половины. 50% данных находятся ниже или равны этому значению.\n",
        "\n",
        "3. **Третий квартиль (Q3)**: Это значение, ниже которого находится 75% данных. Таким образом, 75% данных меньше или равны этому значению.\n",
        "\n"
      ],
      "metadata": {
        "id": "kNISm-aQiHr7"
      }
    },
    {
      "cell_type": "markdown",
      "source": [
        "#### Алгоритм"
      ],
      "metadata": {
        "id": "-ddWroaJiL-j"
      }
    },
    {
      "cell_type": "markdown",
      "source": [
        "Квартильные разности, такие как интерквартильный размах (разница между третьим и первым квартилем), часто используются для оценки разброса и вариативности данных."
      ],
      "metadata": {
        "id": "YDdpoyk1iN0D"
      }
    },
    {
      "cell_type": "markdown",
      "source": [
        "1. Вычислите квартильные значения:\n",
        "   - Первый квартиль (Q1): значение, ниже которого находится 25% данных.\n",
        "   - Третий квартиль (Q3): значение, ниже которого находится 75% данных.\n",
        "\n",
        "2. Вычислите межквартильный размах (IQR):\n",
        "   $$ \\text{IQR} = Q3 - Q1 $$\n",
        "\n",
        "3. Определите границы для выбросов:\n",
        "   - Нижняя граница для выбросов: $ Q1 - 1.5 \\times \\text{IQR} $\n",
        "   - Верхняя граница для выбросов: $ Q3 + 1.5 \\times \\text{IQR} $\n",
        "\n",
        "4. Идентифицируйте выбросы:\n",
        "    \n",
        "    Значения, которые находятся ниже нижней границы или выше верхней границы, считаются выбросами.\n"
      ],
      "metadata": {
        "id": "Xq3co4EJiO-q"
      }
    },
    {
      "cell_type": "markdown",
      "source": [
        "#### Почему этот метод работает?\n",
        "\n"
      ],
      "metadata": {
        "id": "AzcM1H6BiQgj"
      }
    },
    {
      "cell_type": "markdown",
      "source": [
        "Этот метод использует подход для определения выбросов, похожий на метод z-оценок: он определяет выбросы как значения, которые сильно отдалены от большинства. Для этого он использует квартили, которые показывают сколько процентов данных за ними находится"
      ],
      "metadata": {
        "id": "TaNC3bvqiSEz"
      }
    },
    {
      "cell_type": "markdown",
      "source": [
        "#### Определение выбросов методом межквартильного размаха на практике"
      ],
      "metadata": {
        "id": "LHPlkaybiTX7"
      }
    },
    {
      "cell_type": "markdown",
      "source": [
        "Попробуем определить выбросы на тех же данных, только уже другим методом: методом межквартильного размаха"
      ],
      "metadata": {
        "id": "ET_mXN4ciUzi"
      }
    },
    {
      "cell_type": "code",
      "source": [
        "import seaborn as sns\n",
        "import pandas as pd\n",
        "import numpy as np\n",
        "from scipy import stats\n",
        "\n",
        "# Загрузка датасета\n",
        "data = sns.load_dataset(\"tips\")\n",
        "data"
      ],
      "metadata": {
        "colab": {
          "base_uri": "https://localhost:8080/",
          "height": 424
        },
        "id": "wcxF24AAiV-b",
        "outputId": "966bf171-0fb7-424e-d39a-bbd2a1dabdc8"
      },
      "execution_count": null,
      "outputs": [
        {
          "output_type": "execute_result",
          "data": {
            "text/plain": [
              "     total_bill   tip     sex smoker   day    time  size\n",
              "0         16.99  1.01  Female     No   Sun  Dinner     2\n",
              "1         10.34  1.66    Male     No   Sun  Dinner     3\n",
              "2         21.01  3.50    Male     No   Sun  Dinner     3\n",
              "3         23.68  3.31    Male     No   Sun  Dinner     2\n",
              "4         24.59  3.61  Female     No   Sun  Dinner     4\n",
              "..          ...   ...     ...    ...   ...     ...   ...\n",
              "239       29.03  5.92    Male     No   Sat  Dinner     3\n",
              "240       27.18  2.00  Female    Yes   Sat  Dinner     2\n",
              "241       22.67  2.00    Male    Yes   Sat  Dinner     2\n",
              "242       17.82  1.75    Male     No   Sat  Dinner     2\n",
              "243       18.78  3.00  Female     No  Thur  Dinner     2\n",
              "\n",
              "[244 rows x 7 columns]"
            ],
            "text/html": [
              "\n",
              "  <div id=\"df-ef4c3f28-b4af-4722-b95f-8da566582350\" class=\"colab-df-container\">\n",
              "    <div>\n",
              "<style scoped>\n",
              "    .dataframe tbody tr th:only-of-type {\n",
              "        vertical-align: middle;\n",
              "    }\n",
              "\n",
              "    .dataframe tbody tr th {\n",
              "        vertical-align: top;\n",
              "    }\n",
              "\n",
              "    .dataframe thead th {\n",
              "        text-align: right;\n",
              "    }\n",
              "</style>\n",
              "<table border=\"1\" class=\"dataframe\">\n",
              "  <thead>\n",
              "    <tr style=\"text-align: right;\">\n",
              "      <th></th>\n",
              "      <th>total_bill</th>\n",
              "      <th>tip</th>\n",
              "      <th>sex</th>\n",
              "      <th>smoker</th>\n",
              "      <th>day</th>\n",
              "      <th>time</th>\n",
              "      <th>size</th>\n",
              "    </tr>\n",
              "  </thead>\n",
              "  <tbody>\n",
              "    <tr>\n",
              "      <th>0</th>\n",
              "      <td>16.99</td>\n",
              "      <td>1.01</td>\n",
              "      <td>Female</td>\n",
              "      <td>No</td>\n",
              "      <td>Sun</td>\n",
              "      <td>Dinner</td>\n",
              "      <td>2</td>\n",
              "    </tr>\n",
              "    <tr>\n",
              "      <th>1</th>\n",
              "      <td>10.34</td>\n",
              "      <td>1.66</td>\n",
              "      <td>Male</td>\n",
              "      <td>No</td>\n",
              "      <td>Sun</td>\n",
              "      <td>Dinner</td>\n",
              "      <td>3</td>\n",
              "    </tr>\n",
              "    <tr>\n",
              "      <th>2</th>\n",
              "      <td>21.01</td>\n",
              "      <td>3.50</td>\n",
              "      <td>Male</td>\n",
              "      <td>No</td>\n",
              "      <td>Sun</td>\n",
              "      <td>Dinner</td>\n",
              "      <td>3</td>\n",
              "    </tr>\n",
              "    <tr>\n",
              "      <th>3</th>\n",
              "      <td>23.68</td>\n",
              "      <td>3.31</td>\n",
              "      <td>Male</td>\n",
              "      <td>No</td>\n",
              "      <td>Sun</td>\n",
              "      <td>Dinner</td>\n",
              "      <td>2</td>\n",
              "    </tr>\n",
              "    <tr>\n",
              "      <th>4</th>\n",
              "      <td>24.59</td>\n",
              "      <td>3.61</td>\n",
              "      <td>Female</td>\n",
              "      <td>No</td>\n",
              "      <td>Sun</td>\n",
              "      <td>Dinner</td>\n",
              "      <td>4</td>\n",
              "    </tr>\n",
              "    <tr>\n",
              "      <th>...</th>\n",
              "      <td>...</td>\n",
              "      <td>...</td>\n",
              "      <td>...</td>\n",
              "      <td>...</td>\n",
              "      <td>...</td>\n",
              "      <td>...</td>\n",
              "      <td>...</td>\n",
              "    </tr>\n",
              "    <tr>\n",
              "      <th>239</th>\n",
              "      <td>29.03</td>\n",
              "      <td>5.92</td>\n",
              "      <td>Male</td>\n",
              "      <td>No</td>\n",
              "      <td>Sat</td>\n",
              "      <td>Dinner</td>\n",
              "      <td>3</td>\n",
              "    </tr>\n",
              "    <tr>\n",
              "      <th>240</th>\n",
              "      <td>27.18</td>\n",
              "      <td>2.00</td>\n",
              "      <td>Female</td>\n",
              "      <td>Yes</td>\n",
              "      <td>Sat</td>\n",
              "      <td>Dinner</td>\n",
              "      <td>2</td>\n",
              "    </tr>\n",
              "    <tr>\n",
              "      <th>241</th>\n",
              "      <td>22.67</td>\n",
              "      <td>2.00</td>\n",
              "      <td>Male</td>\n",
              "      <td>Yes</td>\n",
              "      <td>Sat</td>\n",
              "      <td>Dinner</td>\n",
              "      <td>2</td>\n",
              "    </tr>\n",
              "    <tr>\n",
              "      <th>242</th>\n",
              "      <td>17.82</td>\n",
              "      <td>1.75</td>\n",
              "      <td>Male</td>\n",
              "      <td>No</td>\n",
              "      <td>Sat</td>\n",
              "      <td>Dinner</td>\n",
              "      <td>2</td>\n",
              "    </tr>\n",
              "    <tr>\n",
              "      <th>243</th>\n",
              "      <td>18.78</td>\n",
              "      <td>3.00</td>\n",
              "      <td>Female</td>\n",
              "      <td>No</td>\n",
              "      <td>Thur</td>\n",
              "      <td>Dinner</td>\n",
              "      <td>2</td>\n",
              "    </tr>\n",
              "  </tbody>\n",
              "</table>\n",
              "<p>244 rows × 7 columns</p>\n",
              "</div>\n",
              "    <div class=\"colab-df-buttons\">\n",
              "\n",
              "  <div class=\"colab-df-container\">\n",
              "    <button class=\"colab-df-convert\" onclick=\"convertToInteractive('df-ef4c3f28-b4af-4722-b95f-8da566582350')\"\n",
              "            title=\"Convert this dataframe to an interactive table.\"\n",
              "            style=\"display:none;\">\n",
              "\n",
              "  <svg xmlns=\"http://www.w3.org/2000/svg\" height=\"24px\" viewBox=\"0 -960 960 960\">\n",
              "    <path d=\"M120-120v-720h720v720H120Zm60-500h600v-160H180v160Zm220 220h160v-160H400v160Zm0 220h160v-160H400v160ZM180-400h160v-160H180v160Zm440 0h160v-160H620v160ZM180-180h160v-160H180v160Zm440 0h160v-160H620v160Z\"/>\n",
              "  </svg>\n",
              "    </button>\n",
              "\n",
              "  <style>\n",
              "    .colab-df-container {\n",
              "      display:flex;\n",
              "      gap: 12px;\n",
              "    }\n",
              "\n",
              "    .colab-df-convert {\n",
              "      background-color: #E8F0FE;\n",
              "      border: none;\n",
              "      border-radius: 50%;\n",
              "      cursor: pointer;\n",
              "      display: none;\n",
              "      fill: #1967D2;\n",
              "      height: 32px;\n",
              "      padding: 0 0 0 0;\n",
              "      width: 32px;\n",
              "    }\n",
              "\n",
              "    .colab-df-convert:hover {\n",
              "      background-color: #E2EBFA;\n",
              "      box-shadow: 0px 1px 2px rgba(60, 64, 67, 0.3), 0px 1px 3px 1px rgba(60, 64, 67, 0.15);\n",
              "      fill: #174EA6;\n",
              "    }\n",
              "\n",
              "    .colab-df-buttons div {\n",
              "      margin-bottom: 4px;\n",
              "    }\n",
              "\n",
              "    [theme=dark] .colab-df-convert {\n",
              "      background-color: #3B4455;\n",
              "      fill: #D2E3FC;\n",
              "    }\n",
              "\n",
              "    [theme=dark] .colab-df-convert:hover {\n",
              "      background-color: #434B5C;\n",
              "      box-shadow: 0px 1px 3px 1px rgba(0, 0, 0, 0.15);\n",
              "      filter: drop-shadow(0px 1px 2px rgba(0, 0, 0, 0.3));\n",
              "      fill: #FFFFFF;\n",
              "    }\n",
              "  </style>\n",
              "\n",
              "    <script>\n",
              "      const buttonEl =\n",
              "        document.querySelector('#df-ef4c3f28-b4af-4722-b95f-8da566582350 button.colab-df-convert');\n",
              "      buttonEl.style.display =\n",
              "        google.colab.kernel.accessAllowed ? 'block' : 'none';\n",
              "\n",
              "      async function convertToInteractive(key) {\n",
              "        const element = document.querySelector('#df-ef4c3f28-b4af-4722-b95f-8da566582350');\n",
              "        const dataTable =\n",
              "          await google.colab.kernel.invokeFunction('convertToInteractive',\n",
              "                                                    [key], {});\n",
              "        if (!dataTable) return;\n",
              "\n",
              "        const docLinkHtml = 'Like what you see? Visit the ' +\n",
              "          '<a target=\"_blank\" href=https://colab.research.google.com/notebooks/data_table.ipynb>data table notebook</a>'\n",
              "          + ' to learn more about interactive tables.';\n",
              "        element.innerHTML = '';\n",
              "        dataTable['output_type'] = 'display_data';\n",
              "        await google.colab.output.renderOutput(dataTable, element);\n",
              "        const docLink = document.createElement('div');\n",
              "        docLink.innerHTML = docLinkHtml;\n",
              "        element.appendChild(docLink);\n",
              "      }\n",
              "    </script>\n",
              "  </div>\n",
              "\n",
              "\n",
              "<div id=\"df-2e8a9b8a-7e23-445a-9511-0610113cc678\">\n",
              "  <button class=\"colab-df-quickchart\" onclick=\"quickchart('df-2e8a9b8a-7e23-445a-9511-0610113cc678')\"\n",
              "            title=\"Suggest charts\"\n",
              "            style=\"display:none;\">\n",
              "\n",
              "<svg xmlns=\"http://www.w3.org/2000/svg\" height=\"24px\"viewBox=\"0 0 24 24\"\n",
              "     width=\"24px\">\n",
              "    <g>\n",
              "        <path d=\"M19 3H5c-1.1 0-2 .9-2 2v14c0 1.1.9 2 2 2h14c1.1 0 2-.9 2-2V5c0-1.1-.9-2-2-2zM9 17H7v-7h2v7zm4 0h-2V7h2v10zm4 0h-2v-4h2v4z\"/>\n",
              "    </g>\n",
              "</svg>\n",
              "  </button>\n",
              "\n",
              "<style>\n",
              "  .colab-df-quickchart {\n",
              "      --bg-color: #E8F0FE;\n",
              "      --fill-color: #1967D2;\n",
              "      --hover-bg-color: #E2EBFA;\n",
              "      --hover-fill-color: #174EA6;\n",
              "      --disabled-fill-color: #AAA;\n",
              "      --disabled-bg-color: #DDD;\n",
              "  }\n",
              "\n",
              "  [theme=dark] .colab-df-quickchart {\n",
              "      --bg-color: #3B4455;\n",
              "      --fill-color: #D2E3FC;\n",
              "      --hover-bg-color: #434B5C;\n",
              "      --hover-fill-color: #FFFFFF;\n",
              "      --disabled-bg-color: #3B4455;\n",
              "      --disabled-fill-color: #666;\n",
              "  }\n",
              "\n",
              "  .colab-df-quickchart {\n",
              "    background-color: var(--bg-color);\n",
              "    border: none;\n",
              "    border-radius: 50%;\n",
              "    cursor: pointer;\n",
              "    display: none;\n",
              "    fill: var(--fill-color);\n",
              "    height: 32px;\n",
              "    padding: 0;\n",
              "    width: 32px;\n",
              "  }\n",
              "\n",
              "  .colab-df-quickchart:hover {\n",
              "    background-color: var(--hover-bg-color);\n",
              "    box-shadow: 0 1px 2px rgba(60, 64, 67, 0.3), 0 1px 3px 1px rgba(60, 64, 67, 0.15);\n",
              "    fill: var(--button-hover-fill-color);\n",
              "  }\n",
              "\n",
              "  .colab-df-quickchart-complete:disabled,\n",
              "  .colab-df-quickchart-complete:disabled:hover {\n",
              "    background-color: var(--disabled-bg-color);\n",
              "    fill: var(--disabled-fill-color);\n",
              "    box-shadow: none;\n",
              "  }\n",
              "\n",
              "  .colab-df-spinner {\n",
              "    border: 2px solid var(--fill-color);\n",
              "    border-color: transparent;\n",
              "    border-bottom-color: var(--fill-color);\n",
              "    animation:\n",
              "      spin 1s steps(1) infinite;\n",
              "  }\n",
              "\n",
              "  @keyframes spin {\n",
              "    0% {\n",
              "      border-color: transparent;\n",
              "      border-bottom-color: var(--fill-color);\n",
              "      border-left-color: var(--fill-color);\n",
              "    }\n",
              "    20% {\n",
              "      border-color: transparent;\n",
              "      border-left-color: var(--fill-color);\n",
              "      border-top-color: var(--fill-color);\n",
              "    }\n",
              "    30% {\n",
              "      border-color: transparent;\n",
              "      border-left-color: var(--fill-color);\n",
              "      border-top-color: var(--fill-color);\n",
              "      border-right-color: var(--fill-color);\n",
              "    }\n",
              "    40% {\n",
              "      border-color: transparent;\n",
              "      border-right-color: var(--fill-color);\n",
              "      border-top-color: var(--fill-color);\n",
              "    }\n",
              "    60% {\n",
              "      border-color: transparent;\n",
              "      border-right-color: var(--fill-color);\n",
              "    }\n",
              "    80% {\n",
              "      border-color: transparent;\n",
              "      border-right-color: var(--fill-color);\n",
              "      border-bottom-color: var(--fill-color);\n",
              "    }\n",
              "    90% {\n",
              "      border-color: transparent;\n",
              "      border-bottom-color: var(--fill-color);\n",
              "    }\n",
              "  }\n",
              "</style>\n",
              "\n",
              "  <script>\n",
              "    async function quickchart(key) {\n",
              "      const quickchartButtonEl =\n",
              "        document.querySelector('#' + key + ' button');\n",
              "      quickchartButtonEl.disabled = true;  // To prevent multiple clicks.\n",
              "      quickchartButtonEl.classList.add('colab-df-spinner');\n",
              "      try {\n",
              "        const charts = await google.colab.kernel.invokeFunction(\n",
              "            'suggestCharts', [key], {});\n",
              "      } catch (error) {\n",
              "        console.error('Error during call to suggestCharts:', error);\n",
              "      }\n",
              "      quickchartButtonEl.classList.remove('colab-df-spinner');\n",
              "      quickchartButtonEl.classList.add('colab-df-quickchart-complete');\n",
              "    }\n",
              "    (() => {\n",
              "      let quickchartButtonEl =\n",
              "        document.querySelector('#df-2e8a9b8a-7e23-445a-9511-0610113cc678 button');\n",
              "      quickchartButtonEl.style.display =\n",
              "        google.colab.kernel.accessAllowed ? 'block' : 'none';\n",
              "    })();\n",
              "  </script>\n",
              "</div>\n",
              "\n",
              "  <div id=\"id_f4505e5b-4b14-4a88-8678-77aaf016487c\">\n",
              "    <style>\n",
              "      .colab-df-generate {\n",
              "        background-color: #E8F0FE;\n",
              "        border: none;\n",
              "        border-radius: 50%;\n",
              "        cursor: pointer;\n",
              "        display: none;\n",
              "        fill: #1967D2;\n",
              "        height: 32px;\n",
              "        padding: 0 0 0 0;\n",
              "        width: 32px;\n",
              "      }\n",
              "\n",
              "      .colab-df-generate:hover {\n",
              "        background-color: #E2EBFA;\n",
              "        box-shadow: 0px 1px 2px rgba(60, 64, 67, 0.3), 0px 1px 3px 1px rgba(60, 64, 67, 0.15);\n",
              "        fill: #174EA6;\n",
              "      }\n",
              "\n",
              "      [theme=dark] .colab-df-generate {\n",
              "        background-color: #3B4455;\n",
              "        fill: #D2E3FC;\n",
              "      }\n",
              "\n",
              "      [theme=dark] .colab-df-generate:hover {\n",
              "        background-color: #434B5C;\n",
              "        box-shadow: 0px 1px 3px 1px rgba(0, 0, 0, 0.15);\n",
              "        filter: drop-shadow(0px 1px 2px rgba(0, 0, 0, 0.3));\n",
              "        fill: #FFFFFF;\n",
              "      }\n",
              "    </style>\n",
              "    <button class=\"colab-df-generate\" onclick=\"generateWithVariable('data')\"\n",
              "            title=\"Generate code using this dataframe.\"\n",
              "            style=\"display:none;\">\n",
              "\n",
              "  <svg xmlns=\"http://www.w3.org/2000/svg\" height=\"24px\"viewBox=\"0 0 24 24\"\n",
              "       width=\"24px\">\n",
              "    <path d=\"M7,19H8.4L18.45,9,17,7.55,7,17.6ZM5,21V16.75L18.45,3.32a2,2,0,0,1,2.83,0l1.4,1.43a1.91,1.91,0,0,1,.58,1.4,1.91,1.91,0,0,1-.58,1.4L9.25,21ZM18.45,9,17,7.55Zm-12,3A5.31,5.31,0,0,0,4.9,8.1,5.31,5.31,0,0,0,1,6.5,5.31,5.31,0,0,0,4.9,4.9,5.31,5.31,0,0,0,6.5,1,5.31,5.31,0,0,0,8.1,4.9,5.31,5.31,0,0,0,12,6.5,5.46,5.46,0,0,0,6.5,12Z\"/>\n",
              "  </svg>\n",
              "    </button>\n",
              "    <script>\n",
              "      (() => {\n",
              "      const buttonEl =\n",
              "        document.querySelector('#id_f4505e5b-4b14-4a88-8678-77aaf016487c button.colab-df-generate');\n",
              "      buttonEl.style.display =\n",
              "        google.colab.kernel.accessAllowed ? 'block' : 'none';\n",
              "\n",
              "      buttonEl.onclick = () => {\n",
              "        google.colab.notebook.generateWithVariable('data');\n",
              "      }\n",
              "      })();\n",
              "    </script>\n",
              "  </div>\n",
              "\n",
              "    </div>\n",
              "  </div>\n"
            ],
            "application/vnd.google.colaboratory.intrinsic+json": {
              "type": "dataframe",
              "variable_name": "data",
              "summary": "{\n  \"name\": \"data\",\n  \"rows\": 244,\n  \"fields\": [\n    {\n      \"column\": \"total_bill\",\n      \"properties\": {\n        \"dtype\": \"number\",\n        \"std\": 8.902411954856856,\n        \"min\": 3.07,\n        \"max\": 50.81,\n        \"num_unique_values\": 229,\n        \"samples\": [\n          22.12,\n          20.23,\n          14.78\n        ],\n        \"semantic_type\": \"\",\n        \"description\": \"\"\n      }\n    },\n    {\n      \"column\": \"tip\",\n      \"properties\": {\n        \"dtype\": \"number\",\n        \"std\": 1.3836381890011822,\n        \"min\": 1.0,\n        \"max\": 10.0,\n        \"num_unique_values\": 123,\n        \"samples\": [\n          3.35,\n          1.5,\n          6.73\n        ],\n        \"semantic_type\": \"\",\n        \"description\": \"\"\n      }\n    },\n    {\n      \"column\": \"sex\",\n      \"properties\": {\n        \"dtype\": \"category\",\n        \"num_unique_values\": 2,\n        \"samples\": [\n          \"Male\",\n          \"Female\"\n        ],\n        \"semantic_type\": \"\",\n        \"description\": \"\"\n      }\n    },\n    {\n      \"column\": \"smoker\",\n      \"properties\": {\n        \"dtype\": \"category\",\n        \"num_unique_values\": 2,\n        \"samples\": [\n          \"Yes\",\n          \"No\"\n        ],\n        \"semantic_type\": \"\",\n        \"description\": \"\"\n      }\n    },\n    {\n      \"column\": \"day\",\n      \"properties\": {\n        \"dtype\": \"category\",\n        \"num_unique_values\": 4,\n        \"samples\": [\n          \"Sat\",\n          \"Fri\"\n        ],\n        \"semantic_type\": \"\",\n        \"description\": \"\"\n      }\n    },\n    {\n      \"column\": \"time\",\n      \"properties\": {\n        \"dtype\": \"category\",\n        \"num_unique_values\": 2,\n        \"samples\": [\n          \"Lunch\",\n          \"Dinner\"\n        ],\n        \"semantic_type\": \"\",\n        \"description\": \"\"\n      }\n    },\n    {\n      \"column\": \"size\",\n      \"properties\": {\n        \"dtype\": \"number\",\n        \"std\": 0,\n        \"min\": 1,\n        \"max\": 6,\n        \"num_unique_values\": 6,\n        \"samples\": [\n          2,\n          3\n        ],\n        \"semantic_type\": \"\",\n        \"description\": \"\"\n      }\n    }\n  ]\n}"
            }
          },
          "metadata": {},
          "execution_count": 4
        }
      ]
    },
    {
      "cell_type": "code",
      "source": [
        "# Рассчитываем квартильные значения и IQR\n",
        "Q1 = data['total_bill'].quantile(0.25)\n",
        "Q3 = data['total_bill'].quantile(0.75)\n",
        "IQR = Q3 - Q1\n",
        "\n",
        "# Определяем границы для выбросов\n",
        "lower_bound = Q1 - 1.5 * IQR\n",
        "upper_bound = Q3 + 1.5 * IQR\n",
        "\n",
        "# Находим выбросы\n",
        "outliers = (data['total_bill'] < lower_bound) | (data['total_bill'] > upper_bound)\n",
        "outliers_data = data[outliers]\n",
        "\n",
        "print(\"Выбросы в столбце 'total_bill':\")\n",
        "print(outliers_data)"
      ],
      "metadata": {
        "colab": {
          "base_uri": "https://localhost:8080/"
        },
        "id": "IcdQvwS-iYWM",
        "outputId": "92bc09e5-6e87-4dda-fa64-71b9c3bf2e3e"
      },
      "execution_count": null,
      "outputs": [
        {
          "output_type": "stream",
          "name": "stdout",
          "text": [
            "Выбросы в столбце 'total_bill':\n",
            "     total_bill    tip     sex smoker   day    time  size\n",
            "59        48.27   6.73    Male     No   Sat  Dinner     4\n",
            "102       44.30   2.50  Female    Yes   Sat  Dinner     3\n",
            "142       41.19   5.00    Male     No  Thur   Lunch     5\n",
            "156       48.17   5.00    Male     No   Sun  Dinner     6\n",
            "170       50.81  10.00    Male    Yes   Sat  Dinner     3\n",
            "182       45.35   3.50    Male    Yes   Sun  Dinner     3\n",
            "184       40.55   3.00    Male    Yes   Sun  Dinner     2\n",
            "197       43.11   5.00  Female    Yes  Thur   Lunch     4\n",
            "212       48.33   9.00    Male     No   Sat  Dinner     4\n"
          ]
        }
      ]
    },
    {
      "cell_type": "code",
      "source": [
        "import matplotlib.pyplot as plt\n",
        "\n",
        "# Визуализация данных на гистограмме\n",
        "plt.figure(figsize=(12, 8))\n",
        "sns.histplot(data['total_bill'], bins=30, color='blue', label='Data')\n",
        "\n",
        "plt.title('Гистограмма значений total_bill')\n",
        "plt.xlabel('Total Bill')\n",
        "plt.ylabel('Frequency')\n",
        "plt.legend()\n",
        "plt.show()"
      ],
      "metadata": {
        "colab": {
          "base_uri": "https://localhost:8080/",
          "height": 718
        },
        "id": "pKmA-ePkiZ_D",
        "outputId": "42a0af5b-5005-4242-dc09-c9683f2c8e95"
      },
      "execution_count": null,
      "outputs": [
        {
          "output_type": "display_data",
          "data": {
            "text/plain": [
              "<Figure size 1200x800 with 1 Axes>"
            ],
            "image/png": "[encoded data removed]"
          },
          "metadata": {}
        }
      ]
    },
    {
      "cell_type": "markdown",
      "source": [
        "Из гистограммы видно, что действительно можно считать, что значения больше 40 будут выбросами."
      ],
      "metadata": {
        "id": "U5Z2MhPqib2y"
      }
    },
    {
      "cell_type": "markdown",
      "source": [
        "## Упражнение 1: Метод z-оценки"
      ],
      "metadata": {
        "id": "pKxQC2SBidxr"
      }
    },
    {
      "cell_type": "markdown",
      "source": [
        "*Заполните пропуски, обозначенные троеточием (...)*\n",
        "\n",
        "*Подсказка: Если вы не знаете, как заполнить пропуск - посмотрите на примеры, представленные выше*"
      ],
      "metadata": {
        "id": "PWd4qFpzigg8"
      }
    },
    {
      "cell_type": "markdown",
      "source": [
        "Загрузим датасет `titanic`, чтобы проанализировать выбросы в колонке `age`"
      ],
      "metadata": {
        "id": "sOxk6wRRikF7"
      }
    },
    {
      "cell_type": "code",
      "source": [
        "import seaborn as sns\n",
        "import pandas as pd\n",
        "import numpy as np\n",
        "\n",
        "# Загрузка датасета Titanic\n",
        "df = sns.load_dataset('titanic')\n",
        "df"
      ],
      "metadata": {
        "id": "UOav2qX0ii48"
      },
      "execution_count": null,
      "outputs": []
    },
    {
      "cell_type": "code",
      "source": [
        "# Выбираем столбец для анализа, например, 'age'\n",
        "data = df['age'].dropna()\n",
        "\n",
        "# Вычисляем среднее и стандартное отклонение\n",
        "mean = ...\n",
        "std_dev = ...\n",
        "\n",
        "# Вычисляем z-оценки по формуле\n",
        "z_scores = ...\n",
        "\n",
        "# Определяем порог для z-оценки\n",
        "threshold = 3\n",
        "\n",
        "print(f'Среднее значение: {mean}')\n",
        "print(f'Стандартное отклонение: {std_dev}')\n",
        "print(f'Порог z-оценки для определения выбросов: {threshold}')"
      ],
      "metadata": {
        "id": "6RAKQYz0ilzE"
      },
      "execution_count": null,
      "outputs": []
    },
    {
      "cell_type": "markdown",
      "source": [
        "Находим выбросы"
      ],
      "metadata": {
        "id": "nyY3J31rioNE"
      }
    },
    {
      "cell_type": "code",
      "source": [
        "# Идентифицируем выбросы\n",
        "outliers = ....\n",
        "\n",
        "print(f'Количество выбросов: {outliers.count()}')\n",
        "print(f'Выбросы:\\n{outliers}')"
      ],
      "metadata": {
        "id": "-oomDf_bipQ7"
      },
      "execution_count": null,
      "outputs": []
    },
    {
      "cell_type": "markdown",
      "source": [
        "## Упражнение 2: Метод межквартильного размаха"
      ],
      "metadata": {
        "id": "-V8JUQPmirIU"
      }
    },
    {
      "cell_type": "markdown",
      "source": [
        "*Заполните пропуски, обозначенные троеточием (...)*\n",
        "\n",
        "*Подсказка: Если вы не знаете, как заполнить пропуск - посмотрите на примеры, представленные выше*"
      ],
      "metadata": {
        "id": "V7h7C6-Zitgb"
      }
    },
    {
      "cell_type": "markdown",
      "source": [
        "Загрузим датасет `titanic`, чтобы проанализировать выбросы в колонке `age`"
      ],
      "metadata": {
        "id": "QHiJ45ItiwNr"
      }
    },
    {
      "cell_type": "code",
      "source": [
        "import seaborn as sns\n",
        "import pandas as pd\n",
        "\n",
        "# Загрузка датасета Titanic\n",
        "df = sns.load_dataset('titanic')\n",
        "df"
      ],
      "metadata": {
        "id": "OlxTsJCCixgE"
      },
      "execution_count": null,
      "outputs": []
    },
    {
      "cell_type": "markdown",
      "source": [
        "Вычислим границы"
      ],
      "metadata": {
        "id": "YpBY7Bg8iy2k"
      }
    },
    {
      "cell_type": "code",
      "source": [
        "# Выбираем столбец для анализа, например, 'age'\n",
        "data = df['age'].dropna()\n",
        "\n",
        "# Вычисляем первый и третий квартиль\n",
        "Q1 = ...\n",
        "Q3 = ...\n",
        "\n",
        "# Вычисляем межквартильный размах (IQR)\n",
        "IQR = ...\n",
        "\n",
        "# Определяем границы для выбросов\n",
        "lower_bound = ...\n",
        "upper_bound = ...\n",
        "\n",
        "print(f'Первый квартиль (Q1): {Q1}')\n",
        "print(f'Tретий квартиль (Q3): {Q3}')\n",
        "print(f'Межквартильный размах (IQR): {IQR}')\n",
        "print(f'Нижняя граница для выбросов: {lower_bound}')\n",
        "print(f'Верхняя граница для выбросов: {upper_bound}')"
      ],
      "metadata": {
        "id": "kzYetZWZizGj"
      },
      "execution_count": null,
      "outputs": []
    },
    {
      "cell_type": "markdown",
      "source": [
        "Определим выбросы"
      ],
      "metadata": {
        "id": "sjUcGZWki09t"
      }
    },
    {
      "cell_type": "code",
      "source": [
        "# Идентифицируем выбросы\n",
        "outliers = ...\n",
        "\n",
        "print(f'Количество выбросов: {outliers.count()}')\n",
        "print(f'Выбросы:\\n{outliers}')"
      ],
      "metadata": {
        "id": "uicVUZFyi2Cc"
      },
      "execution_count": null,
      "outputs": []
    },
    {
      "cell_type": "markdown",
      "source": [
        "## Заключение"
      ],
      "metadata": {
        "id": "dQOmY8R0eghi"
      }
    },
    {
      "cell_type": "markdown",
      "source": [
        "В этом занятии мы рассмотрели важный аспект предобработки данных: устранение выбросов.\n",
        "\n",
        "Мы обсудили два статистических метода для определения и устранения выбросов:\n",
        "- **Метод z-оценок**: Этот метод использует стандартное отклонение для определения того, насколько сильно значение отличается от среднего. Мы рассмотрели, как вычислить z-оценки и определить выбросы на основе установленного порога.\n",
        "- **Метод межквартильного размаха (IQR)**: Мы изучили, как вычислить квартильные значения и IQR, чтобы определить границы для выбросов. Значения, которые выходят за пределы этих границ, считаются выбросами.\n",
        "\n",
        "Оба метода предоставляют эффективные способы для выявления аномальных значений в данных. Метод z-оценок полезен для данных, которые приблизительно нормально распределены, тогда как метод IQR может быть более устойчивым к различным распределениям и менее чувствителен к выбросам."
      ],
      "metadata": {
        "id": "DdFrwuKSei7T"
      }
    }
  ]
}